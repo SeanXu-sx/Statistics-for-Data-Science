{
 "cells": [
  {
   "cell_type": "markdown",
   "metadata": {},
   "source": [
    "# Module 2 Part 1:  Introduction to Probability"
   ]
  },
  {
   "cell_type": "markdown",
   "metadata": {},
   "source": [
    "# Table of Contents"
   ]
  },
  {
   "cell_type": "markdown",
   "metadata": {},
   "source": [
    "This module consists of 3 parts:\n",
    "\n",
    "**Part 1** - Introduction to Probability\n",
    "\n",
    "**Part 2** - Probability Distributions\n",
    "\n",
    "**Part 3** - the Bayesian framework and Random Variables\n",
    "\n",
    "Each part is provided in a separate notebook file. It is recommended that you follow the order of the notebooks.\n",
    "\n",
    "Part 1:\n",
    "\n",
    "* [Introduction](#Introduction)\n",
    "\n",
    "\n",
    "* [Learning Outcomes](#Learning_Outcomes)\n",
    "\n",
    "\n",
    "* [Readings and Resources](#Readings_and_Resources)\n",
    "\n",
    "\n",
    "* [History of Probability](#History_of_Probability)\n",
    "    * [Early work](#Early_work)\n",
    "    * [Gambling_schemes](#Gambling_schemes)\n",
    "    * [Early WorkProbability theory is born](#Probability_theory_is_born)\n",
    "\n",
    "\n",
    "* [Preliminary Definitions](#Preliminary_Definitions)\n",
    "    * [Random variable](#Random_variable)\n",
    "    * [Random Experiment](#Random_Experiment)\n",
    "    * [Sample Space](#Sample_Space)\n",
    "    * [Event](#Event)\n",
    "\n",
    "\n",
    "* [Probability](#Probability)\n",
    "    * [Definition of probability](#Definition_of_probability)\n",
    "    * [Approaches to assigning probabilities](#Approaches_to_assigning_probabilities)\n",
    "    * [Disjoint or mutually exclusive outcomes](#Disjoint_or_mutually_exclusive_outcomes)\n",
    "    * [Joint Outcomes](#Joint_Outcomes)\n",
    "\n",
    "Part 2:\n",
    "\n",
    "* Probability Distributions\n",
    "\n",
    "* Multiple_Random_Processes\n",
    "    * Independent Events\n",
    "    * Multiplication rule for independent processes\n",
    "    * Conditional Probability\n",
    "    * Marginal and Joint Probabilities\n",
    "    * The general multiplication rule\n",
    "    * Sum of conditional probabilities\n",
    "    * Independence considerations in conditional probability\n",
    "    \n",
    "Part 3:\n",
    "* Bayes' Theorem\n",
    "    * The bayesian framework\n",
    "\n",
    "\n",
    "* Properties of Random Variables\n",
    "    * Expectation_of_a_random_variable\n",
    "    * Variability in expectation\n",
    "\n"
   ]
  },
  {
   "cell_type": "markdown",
   "metadata": {},
   "source": [
    "<a id='Introduction'></a>\n",
    "# Introduction"
   ]
  },
  {
   "cell_type": "markdown",
   "metadata": {},
   "source": [
    "This module covers the basic theory of probabilty and the introduction of the theorem of Bayes.  Bayes theorem is the foundation of Bayesian inference.  You may need to review this topic again before you move on to the module on Bayesian inference."
   ]
  },
  {
   "cell_type": "markdown",
   "metadata": {},
   "source": [
    "<a id='Learning_Outcomes'></a>\n",
    "# Learning Outcomes"
   ]
  },
  {
   "cell_type": "markdown",
   "metadata": {},
   "source": [
    " This module introduces the concepts of probability that will be used in the later modules of hypothesis testing.  At the end of this module you should be able to: \n",
    " * Perform a basic Probability determination\n",
    " * Recognize the characteristics of random variables\n",
    " * Work with conditional probabilities\n",
    " * Describe the difference between Frequentist and Bayesian definitions of probability\n",
    "\n"
   ]
  },
  {
   "cell_type": "markdown",
   "metadata": {},
   "source": [
    "<a id='Readings_and_Resources'></a>\n",
    "# Readings and Resources\n",
    "\n",
    "We invite you to further supplement this notebook with the following recommended texts:\n",
    "\n",
    "Downey, A. 2012, Chapter 1. Bayes' Theorem, pp. 6 to 10 in *Think Bayes: Bayesian Statistics Made Simple, Version 1.0.9,* Green Tea Press. http://www.greenteapress.com/thinkbayes/html/index.html\n",
    "\n",
    "Diez, D., Barr, C. & Çetinkaya-Rundel, M. (2017). Chapter 2: Probability. *OpenIntro Statistics (3rd Ed.).* https://www.openintro.org/stat/textbook.php?stat_book=os \n"
   ]
  },
  {
   "cell_type": "markdown",
   "metadata": {},
   "source": [
    "<a id='History_of_Probability'></a>\n",
    "# History of Probability"
   ]
  },
  {
   "cell_type": "markdown",
   "metadata": {},
   "source": [
    "<a id='Early_work'></a>\n",
    "## Early work"
   ]
  },
  {
   "cell_type": "markdown",
   "metadata": {},
   "source": [
    "The earliest work on the subject was performed by Italian mathematician and physicist Gerolamo Cardano (1501–1576). In his manual *Liber de Ludo Aleae*, Cardano discusses many of the basic concepts of probability complete with a systematic analysis of gambling problems (Science Clarified, 2018). Unfortunately, Cardano's work had little effect on the development of probability because his manual did not appear in print until 1663—and even then received little attention.\n",
    "Cardano was a gambler himself and was always out of money.  He used the game of throwing dice to understand the basic concepts of probability."
   ]
  },
  {
   "cell_type": "markdown",
   "metadata": {},
   "source": [
    "<a id='Gambling_schemes'></a>\n",
    "## Gambling schemes"
   ]
  },
  {
   "cell_type": "markdown",
   "metadata": {},
   "source": [
    "\"A gambler's dispute in 1654 led to the creation of a mathematical theory of probability by two famous French mathematicians, Blaise Pascal and Pierre de Fermat. Antoine Gombaud, Chevalier de Méré, a French nobleman with an interest in gaming and gambling questions, called Pascal's attention to an apparent contradiction concerning a popular dice game. The game consisted in throwing a pair of dice 24 times; the problem was to decide whether or not to bet even money on the occurrence of at least one \"double six\" during the 24 throws. A seemingly well-established gambling rule led de Méré to believe that betting on a double six in 24 throws would be profitable, but his own calculations indicated just the opposite.\"\n",
    "\n",
    "(Apostol, 1969)"
   ]
  },
  {
   "cell_type": "markdown",
   "metadata": {},
   "source": [
    "<a id='Probability_theory_is_born'></a>\n",
    "## Probability theory is born"
   ]
  },
  {
   "cell_type": "markdown",
   "metadata": {},
   "source": [
    "This problem and others posed by de Méré led to an exchange of letters between Pascal and Fermat in which the fundamental principles of probability theory were formulated for the first time. Although a few special problems on games of chance had been solved by some Italian mathematicians in the 15th and 16th centuries, no general theory was developed before this famous correspondence (Apostol, 1969)."
   ]
  },
  {
   "cell_type": "markdown",
   "metadata": {},
   "source": [
    "<a id='Preliminary_Definitions'></a>\n",
    "# Preliminary Definitions"
   ]
  },
  {
   "cell_type": "markdown",
   "metadata": {},
   "source": [
    "There are many situations in life where the outcome of an event or experiment is unknown.  Sometimes the output can take only a known set of values, but exactly which one is not possible to predict.  This is when probability plays its role. You may not know what is the exact value but you may predict the likelihood of a certain outcome.  Typical examples are to roll a die or flip a coin."
   ]
  },
  {
   "cell_type": "markdown",
   "metadata": {},
   "source": [
    "What is the chance of getting 1 when rolling a die?\n",
    "\n",
    "<center>P(1)= $\\frac{1}{6}$</center>\n",
    "\n",
    "What is the chance of getting 1 or 6?\n",
    "\n",
    "<center>P(1 or 6)= $\\frac{1}{3}$</center>\n",
    "\n",
    "You probably made many assumptions in your mind that we will systematize later."
   ]
  },
  {
   "cell_type": "markdown",
   "metadata": {},
   "source": [
    "\n",
    "We need to define some common terms before defining probability."
   ]
  },
  {
   "cell_type": "markdown",
   "metadata": {},
   "source": [
    "<a id='Random_variable'></a>\n",
    "## Random variable"
   ]
  },
  {
   "cell_type": "markdown",
   "metadata": {},
   "source": [
    "  * A variable or process with a random outcome (unknown) is called a random variable\n",
    "  * Usually a random variable is represented with a capital letter such as X, Y or Z"
   ]
  },
  {
   "cell_type": "markdown",
   "metadata": {},
   "source": [
    "<a id='Random_Experiment'></a>\n",
    "## Random Experiment"
   ]
  },
  {
   "cell_type": "markdown",
   "metadata": {},
   "source": [
    "  * A random experiment is one that leads to one of several possible outcomes.  The output of a random experiment is a random variable."
   ]
  },
  {
   "cell_type": "markdown",
   "metadata": {},
   "source": [
    "<a id='Sample_Space'></a>\n",
    "## Sample Space"
   ]
  },
  {
   "cell_type": "markdown",
   "metadata": {},
   "source": [
    "  * A sample space of a random experiment is a list of all possible outcomes of the experiment. "
   ]
  },
  {
   "cell_type": "markdown",
   "metadata": {},
   "source": [
    "<a id='Event'></a>\n",
    "## Event"
   ]
  },
  {
   "cell_type": "markdown",
   "metadata": {},
   "source": [
    "An individual outcome of an experiment (a sample space) is called a simple event. An event is a collection or set of one or more simple events in a sample space. For example the event 'obtain and even number' when rolling a die is composed the the simple events '2, 4 and 6'.\n",
    "\n",
    "The probability of an event is the sum of the probabilities of the simple events that constitute the event."
   ]
  },
  {
   "cell_type": "markdown",
   "metadata": {},
   "source": [
    "<a id='Probability'></a>\n",
    "# Probability"
   ]
  },
  {
   "cell_type": "markdown",
   "metadata": {},
   "source": [
    "<a id='Definition_of_probability'></a>\n",
    "## Definition of probability"
   ]
  },
  {
   "cell_type": "markdown",
   "metadata": {},
   "source": [
    "In general the **Probability of an Event** is the sum of the probabilities of the simple events that constitute the event.\n",
    "\n",
    "The probability of an outcome is the proportion of times the outcome would occur if we observed the random process an infinite number of times.  Even though the interpretation is always the same, we can assign a probability to an event using different approaches.\n",
    "\n",
    "Following the previous example, the probability of obtaining an even number when rolling a die is the sum of the probabilities of obtaining a 2, 4 or 6."
   ]
  },
  {
   "cell_type": "markdown",
   "metadata": {},
   "source": [
    "<a id='Approaches_to_assigning_probabilities'></a>\n",
    "##  Approaches to assigning probabilities"
   ]
  },
  {
   "cell_type": "markdown",
   "metadata": {},
   "source": [
    "**Classical approach:**  all possible outcomes are equally probable.  It is theoretical, for example a die can yield 6 possible values then we assign each outcome {1,2,3,4,5,6} the same probability of $\\frac{1}{6}$.  \n",
    "\n",
    "**Relative Frequentist or Objective approach:**  defines probability as the long-run relative frequency with which an outcome occurs.  \n",
    "\n",
    "\n",
    "### <center>$\\displaystyle P(k)=\\lim_{n\\to \\infty} \\frac{k}{n}%$</center>\n",
    "\n",
    "\n",
    "  * The probability of an event is defined as the proportion of times the event $k$ occurs after a very large number $n$ of trials are done. In mathematical jargon we say when $n$ goes to infinity, practically, we can consider the number of trials $n$ to be a very large. To determine when $n$ is 'big enough' we use convergence criteria.  In simple terms, when the propotion does not significantly change from one trial to the next we say that it converged.\n",
    "  * For example, if you can repeat flipping a coin indefinitely and count how many heads you get and divide that number by the number of flips, the value you obtain should be 0.5\n",
    "\n",
    "**Subjective Approach:**  based on our degree of belief that we hold in the occurrence of an event.  \n",
    "\n",
    "However, the **interpretation** of the probability is always frequentist, i.e. if we say that the probability of fliping a coin and getting a head is $\\frac{1}{2}$, we understand that if we throw the coin an infinite number of times the coin will yield a head $\\frac{1}{2}$ of the times.\n",
    "\n",
    "This is a very important point that is usually misunderstood.  For exampe if a patient takes a test for a specific disease that has a precision of 90% and yields positive it means that out of a big number of patients who tested positive only 90% of them will carry the illness while the remaning 10% will not.  It is **not** that one patient 'degree of sickness' is 90% or that the probability of being sick is 90%.  Being sick or not is not a random variable, the patient is sick or it is not, however you don't know it and thus are making a probabilistic prediction."
   ]
  },
  {
   "cell_type": "markdown",
   "metadata": {},
   "source": [
    "### Law of Large Numbers\n",
    "As more observations are collected, the observed proportion $\\widehat{p}_n$ of occurrences with a particular outcome converges to the probability $p$ of that outcome as $n$ becomes bigger and bigger.  The observed proportion in our sample is the best estimation we can make about the population true proportion.  Estimations are usually denoted by placing a little hat on top of the paratmeter estimated like in our example $\\widehat{p}$.\n",
    "\n",
    "The relative frequentist approach is defined as the long-run relative frequency, mathematically this is defined as the $n \\to \\infty$, however what is 'long enough' in practical terms depends on the distribution of the events.\n",
    "\n",
    "Below there is a sampling simulation where you roll a die and take the average of the numbers obtained.  If all numbers have the same probability you expect an average of 3.5.  However, it takes around 200 rolls to get close to that number.  There is a lot of variability in the results of the initial iterations of each experiment.\n",
    "\n",
    "In this case once we get beyond 200 the number of observations is large enough that the proportion should almost always give us a good estimate of the actual probability."
   ]
  },
  {
   "cell_type": "code",
   "execution_count": 1,
   "metadata": {},
   "outputs": [],
   "source": [
    "import numpy as np\n",
    "%matplotlib inline\n",
    "import matplotlib.pyplot as plt\n",
    "\n",
    "population = np.arange(1,7)\n",
    "#population = np.random.uniform(1,7,1000000)\n",
    "nbr_samples = 500 #rows\n",
    "sample_size = 1 #columns\n",
    "samples = np.random.choice(population,(nbr_samples,sample_size),replace = True)\n",
    "\n",
    "sample_size_array=np.arange(1,nbr_samples+1)"
   ]
  },
  {
   "cell_type": "code",
   "execution_count": 2,
   "metadata": {},
   "outputs": [
    {
     "data": {
      "text/plain": [
       "array([1, 2, 3, 4, 5, 6])"
      ]
     },
     "execution_count": 2,
     "metadata": {},
     "output_type": "execute_result"
    }
   ],
   "source": [
    "population"
   ]
  },
  {
   "cell_type": "code",
   "execution_count": 3,
   "metadata": {},
   "outputs": [
    {
     "data": {
      "text/plain": [
       "array([[2],\n",
       "       [6],\n",
       "       [3],\n",
       "       [4],\n",
       "       [1],\n",
       "       [6],\n",
       "       [5],\n",
       "       [3],\n",
       "       [3],\n",
       "       [4],\n",
       "       [5],\n",
       "       [2],\n",
       "       [6],\n",
       "       [4],\n",
       "       [3],\n",
       "       [4],\n",
       "       [2],\n",
       "       [2],\n",
       "       [2],\n",
       "       [4],\n",
       "       [1],\n",
       "       [2],\n",
       "       [1],\n",
       "       [4],\n",
       "       [6],\n",
       "       [2],\n",
       "       [2],\n",
       "       [1],\n",
       "       [2],\n",
       "       [2],\n",
       "       [5],\n",
       "       [6],\n",
       "       [4],\n",
       "       [5],\n",
       "       [1],\n",
       "       [1],\n",
       "       [5],\n",
       "       [1],\n",
       "       [6],\n",
       "       [6],\n",
       "       [6],\n",
       "       [1],\n",
       "       [5],\n",
       "       [2],\n",
       "       [4],\n",
       "       [6],\n",
       "       [1],\n",
       "       [1],\n",
       "       [2],\n",
       "       [6],\n",
       "       [4],\n",
       "       [1],\n",
       "       [5],\n",
       "       [1],\n",
       "       [1],\n",
       "       [4],\n",
       "       [3],\n",
       "       [4],\n",
       "       [6],\n",
       "       [6],\n",
       "       [5],\n",
       "       [1],\n",
       "       [4],\n",
       "       [3],\n",
       "       [6],\n",
       "       [1],\n",
       "       [2],\n",
       "       [3],\n",
       "       [6],\n",
       "       [5],\n",
       "       [1],\n",
       "       [2],\n",
       "       [5],\n",
       "       [6],\n",
       "       [6],\n",
       "       [4],\n",
       "       [4],\n",
       "       [2],\n",
       "       [1],\n",
       "       [1],\n",
       "       [2],\n",
       "       [4],\n",
       "       [5],\n",
       "       [3],\n",
       "       [2],\n",
       "       [1],\n",
       "       [6],\n",
       "       [4],\n",
       "       [4],\n",
       "       [1],\n",
       "       [5],\n",
       "       [2],\n",
       "       [4],\n",
       "       [1],\n",
       "       [6],\n",
       "       [1],\n",
       "       [4],\n",
       "       [1],\n",
       "       [5],\n",
       "       [6],\n",
       "       [1],\n",
       "       [6],\n",
       "       [2],\n",
       "       [1],\n",
       "       [5],\n",
       "       [6],\n",
       "       [5],\n",
       "       [2],\n",
       "       [1],\n",
       "       [1],\n",
       "       [2],\n",
       "       [5],\n",
       "       [4],\n",
       "       [4],\n",
       "       [3],\n",
       "       [4],\n",
       "       [6],\n",
       "       [2],\n",
       "       [6],\n",
       "       [5],\n",
       "       [5],\n",
       "       [3],\n",
       "       [6],\n",
       "       [3],\n",
       "       [1],\n",
       "       [1],\n",
       "       [5],\n",
       "       [3],\n",
       "       [2],\n",
       "       [3],\n",
       "       [6],\n",
       "       [1],\n",
       "       [5],\n",
       "       [3],\n",
       "       [6],\n",
       "       [5],\n",
       "       [1],\n",
       "       [5],\n",
       "       [6],\n",
       "       [3],\n",
       "       [1],\n",
       "       [4],\n",
       "       [5],\n",
       "       [6],\n",
       "       [2],\n",
       "       [3],\n",
       "       [1],\n",
       "       [4],\n",
       "       [4],\n",
       "       [3],\n",
       "       [1],\n",
       "       [3],\n",
       "       [3],\n",
       "       [4],\n",
       "       [4],\n",
       "       [1],\n",
       "       [5],\n",
       "       [2],\n",
       "       [3],\n",
       "       [2],\n",
       "       [4],\n",
       "       [6],\n",
       "       [2],\n",
       "       [5],\n",
       "       [3],\n",
       "       [3],\n",
       "       [5],\n",
       "       [2],\n",
       "       [1],\n",
       "       [1],\n",
       "       [6],\n",
       "       [3],\n",
       "       [4],\n",
       "       [6],\n",
       "       [5],\n",
       "       [4],\n",
       "       [3],\n",
       "       [4],\n",
       "       [6],\n",
       "       [2],\n",
       "       [6],\n",
       "       [4],\n",
       "       [6],\n",
       "       [3],\n",
       "       [6],\n",
       "       [3],\n",
       "       [6],\n",
       "       [6],\n",
       "       [4],\n",
       "       [3],\n",
       "       [6],\n",
       "       [6],\n",
       "       [5],\n",
       "       [6],\n",
       "       [1],\n",
       "       [6],\n",
       "       [5],\n",
       "       [5],\n",
       "       [4],\n",
       "       [6],\n",
       "       [2],\n",
       "       [1],\n",
       "       [3],\n",
       "       [2],\n",
       "       [3],\n",
       "       [6],\n",
       "       [2],\n",
       "       [1],\n",
       "       [5],\n",
       "       [5],\n",
       "       [4],\n",
       "       [3],\n",
       "       [1],\n",
       "       [6],\n",
       "       [6],\n",
       "       [3],\n",
       "       [1],\n",
       "       [5],\n",
       "       [4],\n",
       "       [3],\n",
       "       [3],\n",
       "       [1],\n",
       "       [5],\n",
       "       [6],\n",
       "       [3],\n",
       "       [3],\n",
       "       [2],\n",
       "       [2],\n",
       "       [4],\n",
       "       [3],\n",
       "       [5],\n",
       "       [1],\n",
       "       [3],\n",
       "       [5],\n",
       "       [3],\n",
       "       [3],\n",
       "       [4],\n",
       "       [2],\n",
       "       [4],\n",
       "       [2],\n",
       "       [4],\n",
       "       [4],\n",
       "       [3],\n",
       "       [6],\n",
       "       [3],\n",
       "       [1],\n",
       "       [1],\n",
       "       [5],\n",
       "       [3],\n",
       "       [4],\n",
       "       [2],\n",
       "       [5],\n",
       "       [6],\n",
       "       [6],\n",
       "       [5],\n",
       "       [1],\n",
       "       [1],\n",
       "       [1],\n",
       "       [2],\n",
       "       [1],\n",
       "       [4],\n",
       "       [4],\n",
       "       [2],\n",
       "       [5],\n",
       "       [4],\n",
       "       [5],\n",
       "       [1],\n",
       "       [2],\n",
       "       [6],\n",
       "       [6],\n",
       "       [4],\n",
       "       [1],\n",
       "       [2],\n",
       "       [1],\n",
       "       [2],\n",
       "       [4],\n",
       "       [4],\n",
       "       [4],\n",
       "       [5],\n",
       "       [2],\n",
       "       [5],\n",
       "       [1],\n",
       "       [4],\n",
       "       [6],\n",
       "       [2],\n",
       "       [3],\n",
       "       [4],\n",
       "       [6],\n",
       "       [1],\n",
       "       [2],\n",
       "       [2],\n",
       "       [5],\n",
       "       [5],\n",
       "       [4],\n",
       "       [3],\n",
       "       [2],\n",
       "       [6],\n",
       "       [3],\n",
       "       [5],\n",
       "       [4],\n",
       "       [1],\n",
       "       [1],\n",
       "       [6],\n",
       "       [5],\n",
       "       [6],\n",
       "       [4],\n",
       "       [5],\n",
       "       [3],\n",
       "       [2],\n",
       "       [1],\n",
       "       [6],\n",
       "       [5],\n",
       "       [1],\n",
       "       [2],\n",
       "       [3],\n",
       "       [6],\n",
       "       [6],\n",
       "       [1],\n",
       "       [2],\n",
       "       [5],\n",
       "       [4],\n",
       "       [3],\n",
       "       [5],\n",
       "       [5],\n",
       "       [1],\n",
       "       [3],\n",
       "       [5],\n",
       "       [2],\n",
       "       [2],\n",
       "       [6],\n",
       "       [6],\n",
       "       [3],\n",
       "       [1],\n",
       "       [3],\n",
       "       [1],\n",
       "       [3],\n",
       "       [1],\n",
       "       [5],\n",
       "       [2],\n",
       "       [6],\n",
       "       [1],\n",
       "       [6],\n",
       "       [5],\n",
       "       [4],\n",
       "       [3],\n",
       "       [1],\n",
       "       [1],\n",
       "       [5],\n",
       "       [2],\n",
       "       [4],\n",
       "       [1],\n",
       "       [3],\n",
       "       [6],\n",
       "       [6],\n",
       "       [1],\n",
       "       [5],\n",
       "       [6],\n",
       "       [4],\n",
       "       [1],\n",
       "       [2],\n",
       "       [2],\n",
       "       [5],\n",
       "       [2],\n",
       "       [2],\n",
       "       [3],\n",
       "       [1],\n",
       "       [4],\n",
       "       [6],\n",
       "       [3],\n",
       "       [2],\n",
       "       [4],\n",
       "       [4],\n",
       "       [1],\n",
       "       [3],\n",
       "       [3],\n",
       "       [5],\n",
       "       [2],\n",
       "       [6],\n",
       "       [3],\n",
       "       [2],\n",
       "       [6],\n",
       "       [4],\n",
       "       [1],\n",
       "       [4],\n",
       "       [4],\n",
       "       [2],\n",
       "       [6],\n",
       "       [1],\n",
       "       [6],\n",
       "       [4],\n",
       "       [4],\n",
       "       [4],\n",
       "       [3],\n",
       "       [3],\n",
       "       [1],\n",
       "       [1],\n",
       "       [1],\n",
       "       [5],\n",
       "       [5],\n",
       "       [5],\n",
       "       [4],\n",
       "       [5],\n",
       "       [2],\n",
       "       [2],\n",
       "       [2],\n",
       "       [1],\n",
       "       [1],\n",
       "       [3],\n",
       "       [5],\n",
       "       [2],\n",
       "       [4],\n",
       "       [2],\n",
       "       [1],\n",
       "       [4],\n",
       "       [5],\n",
       "       [4],\n",
       "       [3],\n",
       "       [2],\n",
       "       [4],\n",
       "       [6],\n",
       "       [3],\n",
       "       [5],\n",
       "       [4],\n",
       "       [1],\n",
       "       [1],\n",
       "       [2],\n",
       "       [3],\n",
       "       [3],\n",
       "       [4],\n",
       "       [1],\n",
       "       [4],\n",
       "       [1],\n",
       "       [1],\n",
       "       [4],\n",
       "       [4],\n",
       "       [6],\n",
       "       [3],\n",
       "       [4],\n",
       "       [4],\n",
       "       [2],\n",
       "       [6],\n",
       "       [3],\n",
       "       [3],\n",
       "       [1],\n",
       "       [4],\n",
       "       [6],\n",
       "       [5],\n",
       "       [6],\n",
       "       [3],\n",
       "       [1],\n",
       "       [4],\n",
       "       [3],\n",
       "       [2],\n",
       "       [2],\n",
       "       [1],\n",
       "       [3],\n",
       "       [2],\n",
       "       [1],\n",
       "       [3],\n",
       "       [5],\n",
       "       [1],\n",
       "       [6],\n",
       "       [1],\n",
       "       [3],\n",
       "       [4],\n",
       "       [1],\n",
       "       [3],\n",
       "       [2],\n",
       "       [6],\n",
       "       [2],\n",
       "       [2],\n",
       "       [2],\n",
       "       [3],\n",
       "       [3],\n",
       "       [1],\n",
       "       [5],\n",
       "       [6],\n",
       "       [1],\n",
       "       [1],\n",
       "       [5],\n",
       "       [2],\n",
       "       [5],\n",
       "       [6],\n",
       "       [1],\n",
       "       [3],\n",
       "       [5],\n",
       "       [4],\n",
       "       [4],\n",
       "       [6],\n",
       "       [3],\n",
       "       [3],\n",
       "       [5],\n",
       "       [1],\n",
       "       [4],\n",
       "       [2],\n",
       "       [2],\n",
       "       [2],\n",
       "       [4],\n",
       "       [4],\n",
       "       [3]])"
      ]
     },
     "execution_count": 3,
     "metadata": {},
     "output_type": "execute_result"
    }
   ],
   "source": [
    "samples"
   ]
  },
  {
   "cell_type": "code",
   "execution_count": 3,
   "metadata": {},
   "outputs": [
    {
     "data": {
      "image/png": "[encoded data removed]",
      "text/plain": [
       "<Figure size 432x288 with 1 Axes>"
      ]
     },
     "metadata": {
      "needs_background": "light"
     },
     "output_type": "display_data"
    },
    {
     "data": {
      "image/png": "[encoded data removed]",
      "text/plain": [
       "<Figure size 432x288 with 1 Axes>"
      ]
     },
     "metadata": {
      "needs_background": "light"
     },
     "output_type": "display_data"
    },
    {
     "data": {
      "image/png": "[encoded data removed]",
      "text/plain": [
       "<Figure size 432x288 with 1 Axes>"
      ]
     },
     "metadata": {
      "needs_background": "light"
     },
     "output_type": "display_data"
    },
    {
     "data": {
      "image/png": "[encoded data removed]",
      "text/plain": [
       "<Figure size 432x288 with 1 Axes>"
      ]
     },
     "metadata": {
      "needs_background": "light"
     },
     "output_type": "display_data"
    },
    {
     "data": {
      "image/png": "[encoded data removed]",
      "text/plain": [
       "<Figure size 432x288 with 1 Axes>"
      ]
     },
     "metadata": {
      "needs_background": "light"
     },
     "output_type": "display_data"
    }
   ],
   "source": [
    "def method():\n",
    "    samples = np.random.choice(population,(nbr_samples,sample_size),replace = True)\n",
    "    rolling_average = samples.mean(1).cumsum()/sample_size_array\n",
    "    plt.scatter(sample_size_array,rolling_average,alpha=0.5,marker=None,linewidths=1)\n",
    "    plt.xlabel('Number of trials')\n",
    "    plt.ylabel('Rolling average')\n",
    "    plt.show()\n",
    "\n",
    "for i in range(5):\n",
    "    method()"
   ]
  },
  {
   "cell_type": "markdown",
   "metadata": {},
   "source": [
    "<a id='Disjoint_or_mutually_exclusive_outcomes'></a>\n",
    "## Disjoint or mutually exclusive outcomes"
   ]
  },
  {
   "cell_type": "markdown",
   "metadata": {},
   "source": [
    "So far we considered one outcome however in many situations we need to consider multiple outcomes.  Multiple outcomes can be produced by repeating the same experiment multiple times, i.e. rolling a die multiple times, or by observing more than one characteristic of an outcome, i.e. checking if a student and one of his parents attended college.  \n",
    "\n",
    "Two outcomes are called **disjoint** or **mutually exclusive** if they cannot both happen at the same time.\n",
    "\n",
    "For instance, if we roll a die one time, the outcomes 1 and 2 are disjoint since they cannot both occur. On the other hand, the outcomes \"1\" and “rolling an odd number” are not disjoint since both occur if the outcome of the roll is a 1. The terms disjoint and mutually exclusive are equivalent and interchangeable.\n",
    "Calculating the probability of disjoint outcomes is easier than calculating the probability of not disjoint outcomes. When rolling a die, the outcomes 1 and 2 are disjoint, and we compute the probability that one of these outcomes will occur by adding their separate probabilities."
   ]
  },
  {
   "cell_type": "markdown",
   "metadata": {},
   "source": [
    "#### The addition rule of disjoint or mutually exclusive outcomes\n",
    "Let's reivew the example we gave at the begining of this module.  When we roll a die each possible outcome is disjoint, that is, a die can produce only one number at a time.  A regular die has six possible outcomes and the probability of each outcome is $\\frac {1}{6}$.  We can intuitively accept that the probabilty of getting a 1 or a 3 is the probability of getting a one plus the probability of getting a 3.\n",
    "\n",
    "If $A_1$ and $A_2$ represent two disjoint outcomes, then the probability that one of them occurs is given by\n",
    "$$\n",
    "P(A_1 \\ or \\ A_2)=P(A_1\\cup A_2)=P(A_1)+P(A_2)\n",
    "$$\n",
    "\n",
    "If there are many disjoint outcomes $A_1$, ..., $A_k$, then the probability that one of\n",
    "these outcomes will occur is\n",
    "\n",
    "$$\n",
    "P(A_i)=P(A_1)+P(A_2)+...P(A_k)\n",
    "$$"
   ]
  },
  {
   "cell_type": "markdown",
   "metadata": {},
   "source": [
    "#### Mutually Exclusive Collectively Exhaustive (MECE)\n",
    "In the calculation of probabilities it is important that the outcomes (sample space) are collectively exhaustive, which means that all possible outcomes must be accounted for.   Mathematically this is accounted for when we say that $\\sum p_n =1$. It is also important to note if the outcomes are mutually exclusive, which means that no two outcomes can occur at the same time.\n",
    "\n",
    "When both conditions happen at the same time it is usually referred as MECE:  Mutually Exclusive and Collectively Exhaustive.  \n",
    "\n",
    "The condition of MECE is important when we define probability distributions in the next module."
   ]
  },
  {
   "cell_type": "markdown",
   "metadata": {},
   "source": [
    "<a id='Joint_Outcomes'></a>\n",
    "##   Joint Outcomes"
   ]
  },
  {
   "cell_type": "markdown",
   "metadata": {},
   "source": [
    "Sometimes we are interested in studying when different simple events might happen at the same time.  In the case of rolling two dice, the output of one event has no influence on the effect of the other event, and both can happen at the same time. (Dice don't talk to each other.)  There are other situations where both events can happen at the same time, but the output of one event has an influence on the outcome of the second event.  In this second case, we are referring to conditional probabilities, which we will cover later in this module.\n",
    "\n",
    "* **Intersection of two events A and B:**\n",
    "\n",
    "The intersection of two events A and B is the event that occurs when both A and B occur. It is denoted as:\n",
    "\n",
    "$P(A \\ and \\ B)=P(A \\cap B)$\n",
    "\n",
    "\n",
    "The probability of the intersection is called the **joint probability**.  In general, the probability for two or more events is referred as a **joint probability**."
   ]
  },
  {
   "cell_type": "markdown",
   "metadata": {},
   "source": [
    "To elaborate on these concepts, we will use the textbook's family college data set (Diez et al, 2015).  \n",
    "\n",
    "The data set contains a sample of 792 cases with two variables, teen and parents, and is summarized in the table below.  The teen variable is either \"college\" or \"not\", where the college label means the teen went to college immediately after high school. The parents variable takes the value degree if at least one parent of the teenager completed a college degree.\n",
    "\n",
    "We will apply the frequentist approach to assign a probability, defining probabilty as the count of the event we are considering as a proportion of the total number of events:\n",
    "\n",
    "| Teen/Parent      | Parent Degree          |Parent No Degree          |Total Teen Probability|\n",
    "| :-----------:    | :--------------------: |:-----------------------: |:-------------------: |\n",
    "| **Teen College** |$\\frac{231}{792}=0.29$  |$\\frac{214}{792}=0.27$    |$\\frac{445}{792}=0.56$|     \n",
    "| **Teen Not**     |$\\frac{49}{792}=0.06$  |$\\frac{298}{792}=0.38$     |$\\frac{347}{792}=0.44$|\n",
    "| **Parent Total** |$\\frac{280}{792}=0.35$ |$\\frac{512}{792}=0.65$     |$\\frac{792}{792}=1.00$|"
   ]
  },
  {
   "cell_type": "markdown",
   "metadata": {},
   "source": [
    "The events that a teen went to college or not are disjoint.  It is not possible that a teen went and did not go to college at the same time.\n",
    "\n",
    "The events that a teen went to college (or not) is not disjoint with the event that a parent went to college (or not) and both may happen at the same time.\n",
    "\n",
    "In the table above inner cells show these intersection events, such as the teen went to college AND parent has a degree $P(Teen College \\cap Parent Degree) = \\frac{231}{792}$. \n",
    "\n",
    "The disjoint events are shown in the last row and last column.\n",
    "* the last row show the total number (and corresponding probability) of parent with degree and parents without degree. The probability of event 'parent has degree' can be found by summing probabilities of events:\n",
    " - teen went to college AND parent has degree\n",
    " - teen did no go to college AND parent has degree. \n",
    "* and the last column shows the sum or total number of teen who went to college and did not."
   ]
  },
  {
   "cell_type": "markdown",
   "metadata": {},
   "source": [
    "#### Probabilities when events are not disjoint (joint)\n",
    "\n",
    "We may be interested on calculating the probability that event A occurs and/or event B occurs.  An event that is the combination of other events is denoted as the union of the events.\n",
    "\n",
    "Our first attempt would be to sum the probabilies of the events, however if the events are not exclusive we may be double counting them.\n",
    "\n",
    "Let's consider the probability that teens go to college and/or parents got a degree from the textbook \n",
    "\n",
    "\n",
    "| Teen/Parent         |Parent Degree                |Parent No Degree                    |Total                  |\n",
    "| :-----------: | :--------------------: |:--------------------: |:--------------------: |\n",
    "| **Teen College**       |0.29                  |0.27            |0.56                   |       \n",
    "| **Teen Not**           |0.06                   |0.38           |0.44                   |\n",
    "| **Teen Total**         |0.35                   |0.65           |1.00                   |\n",
    "\n",
    "<br/>\n",
    "$$P(Teen\\ College \\cup Parent\\ Degree) = P(Teen\\ College) + P(Parent\\ Degree) = P(Teen\\ College\\cap \\ Parent Degree) + P(Teen\\ College\\cap\\ Parent No Degree) + P(Teen\\ College\\cap \\ Parent Degree) + P(Teen\\ Not\\cap \\ Parent Degree)= 0.29 +0.27+0.29+0.06$$\n",
    "<br/>\n",
    "<br/>\n",
    "Notice that we are counting $P(Teen\\ College \\cap Parent\\ Degree)$ twice, to avoid this in the general formula we need to substract it once.\n",
    "\n",
    "<br/>\n",
    "$$\n",
    "P(Teen\\ College \\cup Parent\\ Degree) = P(Teen\\ College) + P(Parent\\ Degree) - P(Teen\\ College \\cap Parent\\ Degree)= \n",
    "$$\n",
    "\n",
    "<br/>\n",
    "\n",
    "<center>= 0.29 + 0.27 + 0.29 + 0.06 - 0.29 = 0.62<center\\>\n",
    "<br/>\n",
    "\n",
    "In general\n",
    "\n",
    "$$\n",
    "P(A\\cup B)=P(A)+P(B)-P(A\\cap B)\n",
    "$$\n",
    "<br/>\n",
    "\n",
    "In cases when the events are mutually exclusive, then is $P(A\\cap B)=\\emptyset$.  Then the **addition rule for mutually exclusive events** becomes what we have seen before:\n",
    "<br/>\n",
    "\n",
    "$$\n",
    "P(A\\cup B)=P(A)+P(B)\n",
    "$$\n",
    "\n"
   ]
  },
  {
   "cell_type": "markdown",
   "metadata": {},
   "source": [
    "### Complement Rule\n",
    "\n",
    "The complement of an event A is the event that A does not happen.\n",
    "\n",
    "$A + Complement\\ of\\ A = A+A^c=Sample\\ Space$\n",
    "\n",
    "$A \\ and \\ A^c$ are disjoint by definition, they must abide to rule 2, thus from property 3 of a probabilty distribution, if event a has a probability $P(A)$ the complement has probability $1-P(A)$.\n",
    "\n",
    "$$\n",
    "P(A^c)=1-P(A)\n",
    "$$"
   ]
  },
  {
   "cell_type": "markdown",
   "metadata": {},
   "source": [
    "### Exercise"
   ]
  },
  {
   "cell_type": "markdown",
   "metadata": {},
   "source": [
    "Socks in a drawer (Dietz et al, 2017)\n",
    "In your sock drawer, you have 4 blue, 5 grey, and 3 black socks. Half asleep one morning you grab 2 socks at random and put them on. Find the probability you end up wearing:**\n",
    "* (a) 2 blue socks \n",
    "* (b) no grey socks\n",
    "* (c) at least 1 black sock \n",
    "* (d) a green sock\n",
    "* (e) matching socks"
   ]
  },
  {
   "cell_type": "code",
   "execution_count": 4,
   "metadata": {},
   "outputs": [],
   "source": [
    "# YOUR SOLUTION HERE\n",
    "#(a) "
   ]
  },
  {
   "cell_type": "markdown",
   "metadata": {},
   "source": [
    "### Solution"
   ]
  },
  {
   "cell_type": "markdown",
   "metadata": {},
   "source": [
    "Socks: blue 4, grey 5, black 3, and total = 4+5+3 = 12   \n",
    "\n",
    "* a 1. Probability of first blue = 4/12\n",
    "* a 2. Probability of second blue = 3/11 (outcome is without replacement)\n",
    "\n",
    "Using multiplication rule P(A and B) for independent outcomes: $$P(A and B) = P(A)\\cdot P(B)$$\n",
    "\n",
    "**Ans (a) Probability of two blues = 4/12 \\* 3/11 = 0.0909**\n",
    "\n",
    "* b 1. Probabaility of first non grey = (12-5)/12 = 7/12\n",
    "* b 2. Probabaility of second non grey = (11-5)/11 = 6/11\n",
    "\n",
    "**Ans (b) Probability of two non greys = 7/12 \\* 6/11 = 0.3182**\n",
    "\n",
    "* c 1. Probability of first black = 3/12\n",
    "* c 2. Probability of second black = 2/11\n",
    "* c 3. Probability of two blacks = 3/12 \\* 2/11\n",
    "* c. Probability of two non blacks = 9/12 * 8/11\n",
    "\n",
    "Or using complement rule: $$P(One\\ Black) = 1- P(Non\\ Blacks)$$\n",
    "\n",
    "**Ans (c) Probability at least one black  = 1 - (9/12 \\* 8/11) = 0.4545**\n",
    "\n",
    "**Ans (d) Probability of a green sock  is 0, because there are no green socks in the drawer**\n",
    "\n",
    "* e 1. Probability of first grey = 5/12  \n",
    "* e 2. Probability of second grey = 4/11\n",
    "* e 3. Probability of two grey = 5/12 \\* 4/11\n",
    "\n",
    "Probability of matching socks; is disjoint outcome of independent events without replacement (two blues, two greys, two blacks). Applying addition rule to colored paired outcomes will give us the desired probability:\n",
    "$$ P(two\\ blues\\ or\\ two\\ greys\\ or\\ two\\ blacks) = P(two\\ blues) + P(two \\ greys) + P(two\\ blacks)$$\n",
    "\n",
    "Using probailities from Ans(a), e 3, and c 2:\n",
    "\n",
    "**Ans (e) Probability of matching socks = (4/12 \\* 3/11) + (5/12 \\* 4/11) + (3/12 \\* 2/11) = 0.2879**"
   ]
  },
  {
   "cell_type": "markdown",
   "metadata": {},
   "source": [
    "**End of Part 1.**\n",
    "\n",
    "This notebook makes up one part of this module. Now that you have completed this part, please proceed to the next notebook in this module.\n",
    "\n",
    "If you have any questions, please reach out to your peers using the discussion boards. If you and your peers are unable to come to a suitable conclusion, do not hesitate to reach out to your instructor on the designated discussion board.\n",
    "\n",
    "\n",
    "# References\n",
    "\n",
    "\n",
    "Apostol, Tom M., 1969, A Short History of Probability http://homepages.wmich.edu/~mackey/Teaching/145/probHist.html, extract from Calculus, Volume II, 2nd edition, John Wiley & Sons, 1969\n",
    "\n",
    "Diez, D., Barr, C. & Çetinkaya-Rundel, M. (2017). 2.28 Socks in a Drawer in Chapter 2: Probability. OpenIntro Statistics (3rd Ed.). https://www.openintro.org/stat/textbook.php?stat_book=os\n",
    "\n",
    "Science Clarified (2018). Probability Theory. Retrieved Dec 5, 2018 from http://www.scienceclarified.com/Ph-Py/Probability-Theory.html\n"
   ]
  },
  {
   "cell_type": "code",
   "execution_count": null,
   "metadata": {},
   "outputs": [],
   "source": []
  },
  {
   "cell_type": "code",
   "execution_count": null,
   "metadata": {},
   "outputs": [],
   "source": []
  }
 ],
 "metadata": {
  "kernelspec": {
   "display_name": "Python 3",
   "language": "python",
   "name": "python3"
  },
  "language_info": {
   "codemirror_mode": {
    "name": "ipython",
    "version": 3
   },
   "file_extension": ".py",
   "mimetype": "text/x-python",
   "name": "python",
   "nbconvert_exporter": "python",
   "pygments_lexer": "ipython3",
   "version": "3.7.6"
  }
 },
 "nbformat": 4,
 "nbformat_minor": 4
}
