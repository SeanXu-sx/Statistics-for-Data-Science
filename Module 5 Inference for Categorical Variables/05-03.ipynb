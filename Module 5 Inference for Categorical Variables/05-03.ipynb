{
 "cells": [
  {
   "cell_type": "markdown",
   "metadata": {},
   "source": [
    "# Module 5 Part 3:  Introduction to Bootstrap"
   ]
  },
  {
   "cell_type": "markdown",
   "metadata": {},
   "source": [
    "This module consists of 3 parts:\n",
    "\n",
    "**Part 1** - Introduction\n",
    "\n",
    "**Part 2** - The Chi-Square Distribution\n",
    "\n",
    "**Part 3** - Introduction to Bootstrap\n",
    "\n",
    "Each part is provided in a separate notebook file. It is recommended that you follow the order of the notebooks.\n",
    "\n",
    "# Table of Contents\n",
    "    \n",
    "* [Introduction to Bootstrap](#Introduction_to_Bootstrap)\n",
    "    * [Theoretical background](#Theoretical_background)\n",
    "    * [Bootstrap examples](#Bootstrap_examples)\n",
    "\n",
    "\n",
    "* [References](#References)"
   ]
  },
  {
   "cell_type": "markdown",
   "metadata": {},
   "source": [
    "<a id='Introduction_to_Bootstrap'></a>\n",
    "# Introduction to Bootstrap"
   ]
  },
  {
   "cell_type": "markdown",
   "metadata": {},
   "source": [
    "Traditional methods for estimating confidence intervals and hypothesis testing rely on distribution assumptions also called **parametric assumptions**.  Many of these assumptions are not met in many applications.  Besides, theoretical solutions (other than mean and variances) are very complex and thus out of reach from most practioners.  \n",
    "\n",
    "Today with the available computing power, **computational approaches** to the estimations of confidence intervals are more accessible.  Computational approaches are empirical and do not require theoretical assumptions.  The most widely known techniques are the **jacknife** and **bootstrap**.  Bootstrap is a historical extension of the Jacknife method and will be covered in this module.\n",
    "\n",
    "The bootstrap method was introduced in 1979 by Bradley Efron. \"The use of the term bootstrap derives from the phrase *to pull oneself up by one's bootstrap*, widely thought to be based on one of the eighteenth century Adventures of Baron Munchause by Rudolph Erich Raspe.\" (Efron & Tibshinari, 1994).  In summary, bootstrap is a computer intensive technique to assess the accuracy of estimates.  Because it does not rely on parametric, i.e. normality assumptions, it is empirically based on the data available, it can applied to different statistics and different distributions.\n",
    "\n",
    "There are different bootstrap methodologies. In the remaining sections of this module we will cover empirical non-parametric bootstrap and mention the two most common methods to determine confidence intervals, the **percentile interval** and **$BC_{a}$** (bias corrected and accelerated).\n",
    "\n",
    "The applications of bootstrap are very broad: standard error estimation of non-normal statistics, linear and logistic regression, time series analysis, and discriminant analysis, to name a few.  Its application in machine learning is also very broad."
   ]
  },
  {
   "cell_type": "markdown",
   "metadata": {},
   "source": [
    "<a id='Theoretical_background'></a>\n",
    "## Theoretical background"
   ]
  },
  {
   "cell_type": "markdown",
   "metadata": {},
   "source": [
    "Bootstrap assesses the accuracy of a sample statistic by applying computer intensive **resampling with replacement**.  \n",
    "\n",
    "The process goes as follows:\n",
    "\n",
    "1. A sample of size *n* is withdrawn from an unknown distribution _F_. </br>\n",
    "  $$F \\rightarrow X=(x_1, x_2,..,x_n)$$  \n",
    "  By unknown in this context, we understand that we don't have a census of the population, in which case we could use the relative frequencies as probabilities.  Or equivalently, we don't have any extra information about $F$ other than the sample, i.e., no parametric assumption such as the population follows a normal/binomial/other known distribution.\n",
    "\n",
    "\n",
    "2. The sample of size n is sampled with replacement with a sample size of n _B_ times.  These are called bootstrap samples.  We will denote each sample as $X^{i}$ for i=1, 2, ...B.\n",
    " \n",
    " \n",
    "3. The B bootstrap samples $X^{i}$ are used to calculate the statistic of interest $S^{i}=S(X^{i})$.\n",
    "\n",
    "\n",
    "4.  The distribution of the _B_ bootstrap samples statistic $S(X^{i})$ is used to calculate the estimated confidence interval of the statistic of interest.\n",
    "\n",
    "There are some considerations to think about:\n",
    "\n",
    "Each of the samples within a Bootstrap sample have to be independent and identically distributed random variables.  Practically, samples are chosen using a random generating number algorithm following a Monte Carlo approach (more on this aproach in a later module).  The random generating algorithm selects n numbers between 1 to n (numbers can be repeated many times or not present at all) where each number has a $\\frac{1}{n}$ of being selected.  The random number works as an index - it determines wich element of the sample is selected.  The process is repeated B times.  Because each element of the sample has the same probability of being selected, they are independent from each other. Because they are sampled from the same population sample, they will be identically distributed.\n",
    "\n",
    "F does not need to be known in this process.  However the standard rules of probability apply:\n",
    "\n",
    "*  Probabilities are defined as relative frequencies.\n",
    "\n",
    "*  Each probability has a value between zero and one.\n",
    "   $$0\\leq P(x_i) \\leq 1$$\n",
    "   \n",
    "*  The total probability of the *sample space*, the collection of all possible values, equals to 1\n",
    "  $Prob\\{S_x\\}= \\sum f_k=1$\n",
    "\n",
    "The **population sample** has an empirical distribution $\\widehat{F}$ which at this point is the best estimate of the population distribution $F$.  The empirical distribution of a sample of size n is the distribution that assigns a $\\frac{1}{n}$ probability to each value $x_i$.  In other words the empirical distribution is the list of values of the sample where each probability will be the relative frequency in the sample.\n",
    "$\\widehat{f_k} =\\# \\{ x_{i}=k \\} /n$.\n",
    "\n",
    "The bootstrap process described above generates a bootstrap distribution $F^*$ which is an estimate of $\\widehat F$.  Like in theoretical statistics, $\\widehat F$ is an estimation of $F$.  \n",
    "\n",
    "The key idea of the bootstrap method is that for an n that is sufficiently large, the variability of $F^*$, $\\widehat F$ and $F$ converge.\n",
    "\n",
    "The Glivenko–Cantelli theorem formally proves that they converge (Efron & Tibshinari, 1994).  This is fundamental theoretical background of the bootstrap method.  This was received by skepticism at the beginning, so the method took time to be widely applied. Today, it is validated and well established.\n",
    "\n",
    "\n"
   ]
  },
  {
   "cell_type": "markdown",
   "metadata": {},
   "source": [
    "<a id='Bootstrap_examples'></a>\n",
    "## Bootstrap examples"
   ]
  },
  {
   "cell_type": "markdown",
   "metadata": {},
   "source": [
    "In this section, we will apply the bootstrap methods to some created examples for illustrative purposes."
   ]
  },
  {
   "cell_type": "markdown",
   "metadata": {},
   "source": [
    "First, let's import the libraries."
   ]
  },
  {
   "cell_type": "code",
   "execution_count": 1,
   "metadata": {},
   "outputs": [],
   "source": [
    "import pandas as pd\n",
    "%matplotlib inline\n",
    "import matplotlib.pyplot as plt\n",
    "import numpy as np"
   ]
  },
  {
   "cell_type": "markdown",
   "metadata": {},
   "source": [
    "Let's create a distribution that we will imagine it is unknown.  First we will show that the empirical distribution resembles the population distribtution."
   ]
  },
  {
   "cell_type": "code",
   "execution_count": 2,
   "metadata": {},
   "outputs": [
    {
     "data": {
      "image/png": "[encoded data removed]",
      "text/plain": [
       "<Figure size 432x288 with 1 Axes>"
      ]
     },
     "metadata": {
      "needs_background": "light"
     },
     "output_type": "display_data"
    }
   ],
   "source": [
    "np.random.seed(123)\n",
    "x=np.random.chisquare(df=3,size=100000)\n",
    "plt.hist(x,bins=100)\n",
    "plt.show()"
   ]
  },
  {
   "cell_type": "markdown",
   "metadata": {},
   "source": [
    "Take a sample from the population.  \n",
    "**NOTE:** This is done this way for illustrative purposes only, we could have generated the sample using the same statement as in the above cell using a size equal to the sample size."
   ]
  },
  {
   "cell_type": "code",
   "execution_count": 3,
   "metadata": {},
   "outputs": [
    {
     "name": "stderr",
     "output_type": "stream",
     "text": [
      "/Users/sergiynokhrin/opt/anaconda3/lib/python3.7/site-packages/ipykernel_launcher.py:4: MatplotlibDeprecationWarning: \n",
      "The 'normed' kwarg was deprecated in Matplotlib 2.1 and will be removed in 3.1. Use 'density' instead.\n",
      "  after removing the cwd from sys.path.\n",
      "/Users/sergiynokhrin/opt/anaconda3/lib/python3.7/site-packages/ipykernel_launcher.py:5: MatplotlibDeprecationWarning: \n",
      "The 'normed' kwarg was deprecated in Matplotlib 2.1 and will be removed in 3.1. Use 'density' instead.\n",
      "  \"\"\"\n"
     ]
    },
    {
     "data": {
      "image/png": "[encoded data removed]",
      "text/plain": [
       "<Figure size 432x288 with 1 Axes>"
      ]
     },
     "metadata": {
      "needs_background": "light"
     },
     "output_type": "display_data"
    }
   ],
   "source": [
    "np.random.seed(123)\n",
    "sample_size=100\n",
    "x_sample=np.random.choice(x,size=sample_size)\n",
    "plt.hist(x_sample,normed='true')\n",
    "plt.hist(x,bins=100,histtype='step',normed='true',color='r')\n",
    "plt.xlim(-1,30)\n",
    "plt.show()"
   ]
  },
  {
   "cell_type": "markdown",
   "metadata": {},
   "source": [
    "It is intuitive to see that if the sample is big, its empirical distribution is a good approximation of the true distribution of the population.  There is nothing new here, however the power of the bootstrap method is to estimate the sampling distribution of different statistics with only one sample.\n",
    "\n",
    "We will start by creating the sampling distribution of the original population to then try to approximate it by bootstrapping.\n",
    "\n",
    "Below, we will create the sampling distribution. \n",
    "**NOTE:** will keep the sample size small to show the application when the CLT cannot be invoked."
   ]
  },
  {
   "cell_type": "code",
   "execution_count": 4,
   "metadata": {},
   "outputs": [
    {
     "data": {
      "image/png": "[encoded data removed]",
      "text/plain": [
       "<Figure size 432x288 with 1 Axes>"
      ]
     },
     "metadata": {
      "needs_background": "light"
     },
     "output_type": "display_data"
    }
   ],
   "source": [
    "np.random.seed(123)\n",
    "\n",
    "x_sample_mean_dist=[]\n",
    "\n",
    "sample_size=10\n",
    "n_samples=10000\n",
    "\n",
    "for i in np.arange(0,n_samples):\n",
    "    x_sample=np.random.choice(x,size=sample_size)\n",
    "    x_sample_mean=np.mean(x_sample)\n",
    "    x_sample_mean_dist.append(x_sample_mean)\n",
    "\n",
    "plt.hist(x_sample_mean_dist,bins=100)\n",
    "plt.title('Sample Distribution of the Mean')\n",
    "plt.show()\n",
    "    \n",
    "    "
   ]
  },
  {
   "cell_type": "markdown",
   "metadata": {},
   "source": [
    "The next step is to bootstrap the sample **B** times.  As a statistic, we will use the mean."
   ]
  },
  {
   "cell_type": "code",
   "execution_count": 5,
   "metadata": {},
   "outputs": [],
   "source": [
    "np.random.seed(123)\n",
    "\n",
    "# We will use only one sample\n",
    "x_sample=np.random.choice(x,size=sample_size)\n",
    "\n",
    "#Create the index file (this is not the index, \n",
    "#it is range with the same numbers as the indeces)\n",
    "sample_idx=np.arange(0,sample_size)\n",
    "\n",
    "#set the number of bootstraps\n",
    "B=100000\n",
    "\n",
    "# create an empty table to store the bootstrap sample stats\n",
    "bootstrap_stat=[]\n",
    "\n",
    "for i in np.arange(0,B):\n",
    "    #pick 15 rows (indexes) randomly with replacement (default)\n",
    "    pop_boot_sample_idx=np.random.choice(sample_idx,sample_size,replace=True)\n",
    "\n",
    "\n",
    "    # sample the records that match with the index\n",
    "    boot_sample=(x_sample[pop_boot_sample_idx])\n",
    "\n",
    "    #calculate the average of the sample\n",
    "    avg_sample_pop=boot_sample.mean()\n",
    "\n",
    "    #Append the new sample correlation to the sampling distribution df\n",
    "    bootstrap_stat.append(avg_sample_pop)"
   ]
  },
  {
   "cell_type": "code",
   "execution_count": 6,
   "metadata": {},
   "outputs": [
    {
     "name": "stdout",
     "output_type": "stream",
     "text": [
      "[1.18439581 3.65472758 1.34327077 5.80941391 4.28856932 2.0349223\n",
      " 5.77215678 1.07193871 2.24602958 3.74596661]\n"
     ]
    }
   ],
   "source": [
    "pop_boot_sample_idx_0 = np.random.choice(sample_idx, sample_size, replace=True)\n",
    "\n",
    "sample_idx\n",
    "print(x_sample)"
   ]
  },
  {
   "cell_type": "code",
   "execution_count": 7,
   "metadata": {},
   "outputs": [
    {
     "name": "stderr",
     "output_type": "stream",
     "text": [
      "/Users/sergiynokhrin/opt/anaconda3/lib/python3.7/site-packages/ipykernel_launcher.py:10: MatplotlibDeprecationWarning: \n",
      "The 'normed' kwarg was deprecated in Matplotlib 2.1 and will be removed in 3.1. Use 'density' instead.\n",
      "  # Remove the CWD from sys.path while we load stuff.\n",
      "/Users/sergiynokhrin/opt/anaconda3/lib/python3.7/site-packages/ipykernel_launcher.py:12: MatplotlibDeprecationWarning: \n",
      "The 'normed' kwarg was deprecated in Matplotlib 2.1 and will be removed in 3.1. Use 'density' instead.\n",
      "  if sys.path[0] == '':\n"
     ]
    },
    {
     "data": {
      "image/png": "[encoded data removed]",
      "text/plain": [
       "<Figure size 1440x360 with 2 Axes>"
      ]
     },
     "metadata": {
      "needs_background": "light"
     },
     "output_type": "display_data"
    }
   ],
   "source": [
    "plt.figure(figsize=(20,5))\n",
    "\n",
    "plt.subplot(121)\n",
    "plt.hist(x_sample)\n",
    "plt.title('Sample used to bootstrap')\n",
    "plt.xlabel('x value')\n",
    "plt.ylabel('Frequency in Sample')\n",
    "\n",
    "plt.subplot(122)\n",
    "plt.hist(bootstrap_stat,bins=200,normed='true',rwidth=1)\n",
    "plt.legend('Bootstrap Distribution')\n",
    "plt.hist(x_sample_mean_dist,bins=100,histtype='step',normed='true',color='r')\n",
    "plt.legend('Sample Mean Distribution')\n",
    "plt.xlabel('x value')\n",
    "plt.ylabel('Relative Frequency')\n",
    "plt.show()"
   ]
  },
  {
   "cell_type": "markdown",
   "metadata": {},
   "source": [
    "Note that shape of the original sampling population is reflected in the distribution of the bootstrap samples.  Here you can appreicate the power of boostrapping a sample, from a small sample you could get a very good representation of the sampling distribution."
   ]
  },
  {
   "cell_type": "code",
   "execution_count": 8,
   "metadata": {},
   "outputs": [
    {
     "name": "stdout",
     "output_type": "stream",
     "text": [
      "Note, however, that the mean of the bootstrap mean distribution is not centered arournd the mean of the sample distribution 3.01 but around the sample mean 3.12 which was the base of the bootstrap sampling.\n"
     ]
    }
   ],
   "source": [
    "print('Note, however, that the mean of the bootstrap mean distribution is not centered arournd the mean of the sample distribution %.2f'\n",
    "      %np.mean(x_sample_mean_dist),\n",
    "     'but around the sample mean %.2f' %np.mean(x_sample), 'which was the base of the bootstrap sampling.')"
   ]
  },
  {
   "cell_type": "markdown",
   "metadata": {},
   "source": [
    "We will use the findings to explain some important properties of the bootstrap technique.\n",
    "\n",
    "The distribution of the sample means $\\bar X$ is centered around the population mean $\\mu$.  The distribution of the bootstrap replications $\\bar X^*$ is centered around the single sample mean that was available (hypothetically, in this example we know both).\n",
    "\n",
    "Bootstrap cannot correct for a sample that is not representative.  However, bootstrap generates information about the variability or shape of the distribution around its center based on only one sample.  In other words, it will not improve the estimate itself, but it can generate a confidence interval when the parametric assumptions, most commonly normality or symmetry, cannot be made or are not met.\n",
    "\n",
    "We show the overlapped histograms below.  Notice that the bootstrap distribution is a bit narrower than the original one.  To correct for this, different techniques have been developed, the most applied is $BA_c$ is presented later in this section."
   ]
  },
  {
   "cell_type": "code",
   "execution_count": 9,
   "metadata": {},
   "outputs": [
    {
     "name": "stderr",
     "output_type": "stream",
     "text": [
      "/Users/sergiynokhrin/opt/anaconda3/lib/python3.7/site-packages/ipykernel_launcher.py:4: MatplotlibDeprecationWarning: \n",
      "The 'normed' kwarg was deprecated in Matplotlib 2.1 and will be removed in 3.1. Use 'density' instead.\n",
      "  after removing the cwd from sys.path.\n",
      "/Users/sergiynokhrin/opt/anaconda3/lib/python3.7/site-packages/ipykernel_launcher.py:5: MatplotlibDeprecationWarning: \n",
      "The 'normed' kwarg was deprecated in Matplotlib 2.1 and will be removed in 3.1. Use 'density' instead.\n",
      "  \"\"\"\n"
     ]
    },
    {
     "data": {
      "image/png": "[encoded data removed]",
      "text/plain": [
       "<Figure size 432x288 with 1 Axes>"
      ]
     },
     "metadata": {
      "needs_background": "light"
     },
     "output_type": "display_data"
    }
   ],
   "source": [
    "bootstrap_stat_centered = bootstrap_stat-np.mean(x_sample) \n",
    "x_sample_mean_dist_centered=x_sample_mean_dist-np.mean(x)\n",
    "\n",
    "plt.hist(bootstrap_stat_centered,bins=200,normed='true',rwidth=1)\n",
    "plt.hist(x_sample_mean_dist_centered,bins=100,histtype='step',normed='true',color='r')\n",
    "plt.show()"
   ]
  },
  {
   "cell_type": "markdown",
   "metadata": {},
   "source": [
    "The first approach is called the **percentile method**: to estimate the sampling distribution of a statistic based on the distribution of the statistic bootstrap replications is very intuitive and easy to understand, however it will be centered around the only sample available and thus it can be off. \n",
    "\n",
    "The second approach applied is called the **empirical bootstrap**: to estimate the distribution around its center. This is recommended, as it is more precise.  The centers may be off, (bootstrap cannot compensate for a bad sample), but the distribution around the centers are distributed following a similar shape."
   ]
  },
  {
   "cell_type": "markdown",
   "metadata": {},
   "source": [
    "**Import the libraries**"
   ]
  },
  {
   "cell_type": "code",
   "execution_count": 10,
   "metadata": {
    "scrolled": true
   },
   "outputs": [],
   "source": [
    "import pandas as pd\n",
    "%matplotlib inline\n",
    "import matplotlib.pyplot as plt\n",
    "import numpy as np"
   ]
  },
  {
   "cell_type": "markdown",
   "metadata": {},
   "source": [
    "**Load the data**"
   ]
  },
  {
   "cell_type": "code",
   "execution_count": 11,
   "metadata": {
    "scrolled": true
   },
   "outputs": [
    {
     "data": {
      "text/html": [
       "<div>\n",
       "<style scoped>\n",
       "    .dataframe tbody tr th:only-of-type {\n",
       "        vertical-align: middle;\n",
       "    }\n",
       "\n",
       "    .dataframe tbody tr th {\n",
       "        vertical-align: top;\n",
       "    }\n",
       "\n",
       "    .dataframe thead th {\n",
       "        text-align: right;\n",
       "    }\n",
       "</style>\n",
       "<table border=\"1\" class=\"dataframe\">\n",
       "  <thead>\n",
       "    <tr style=\"text-align: right;\">\n",
       "      <th></th>\n",
       "      <th>Unnamed: 0</th>\n",
       "      <th>School</th>\n",
       "      <th>LSAT</th>\n",
       "      <th>GPA</th>\n",
       "    </tr>\n",
       "  </thead>\n",
       "  <tbody>\n",
       "    <tr>\n",
       "      <th>0</th>\n",
       "      <td>1</td>\n",
       "      <td>1</td>\n",
       "      <td>622</td>\n",
       "      <td>3.23</td>\n",
       "    </tr>\n",
       "  </tbody>\n",
       "</table>\n",
       "</div>"
      ],
      "text/plain": [
       "   Unnamed: 0  School  LSAT   GPA\n",
       "0           1       1   622  3.23"
      ]
     },
     "execution_count": 11,
     "metadata": {},
     "output_type": "execute_result"
    }
   ],
   "source": [
    "# Two files will be usedin this example, 'law82.csv' is complete dataset, this will be used for normal sampling.\n",
    "# 'law15.csv' is a subset of original dataset with only 15 rows, this subset will be used for bootstrap replication.\n",
    "law82=pd.read_csv('./module05/law82.csv')\n",
    "law15=pd.read_csv('./module05/law15.csv')\n",
    "law82.head(1)"
   ]
  },
  {
   "cell_type": "markdown",
   "metadata": {},
   "source": [
    "**Create a histogram to see the shape of the original data**"
   ]
  },
  {
   "cell_type": "code",
   "execution_count": 12,
   "metadata": {
    "scrolled": true
   },
   "outputs": [
    {
     "data": {
      "text/plain": [
       "Text(0, 0.5, 'Frequency')"
      ]
     },
     "execution_count": 12,
     "metadata": {},
     "output_type": "execute_result"
    },
    {
     "data": {
      "image/png": "[encoded data removed]",
      "text/plain": [
       "<Figure size 1440x360 with 2 Axes>"
      ]
     },
     "metadata": {
      "needs_background": "light"
     },
     "output_type": "display_data"
    }
   ],
   "source": [
    "plt.figure(figsize=(20,5))\n",
    "\n",
    "plt.subplot(121)\n",
    "plt.hist(law82.LSAT)\n",
    "plt.title('Histogram Population LSAT')\n",
    "plt.xlabel('LSAT')\n",
    "plt.ylabel('Frequency')\n",
    "\n",
    "\n",
    "plt.subplot(122)\n",
    "plt.hist(law82.GPA)\n",
    "plt.title('Histogram Population GPA')\n",
    "plt.xlabel('GPA')\n",
    "plt.ylabel('Frequency')"
   ]
  },
  {
   "cell_type": "markdown",
   "metadata": {},
   "source": [
    "**Scatter Plot of the population and sample**\n",
    "\n",
    "The sample could be created from the original data. We are using a pre-determined sample for demonstration purposes. You can try taking your own sample(s) to experiment with the technique if you like."
   ]
  },
  {
   "cell_type": "code",
   "execution_count": 13,
   "metadata": {
    "scrolled": true
   },
   "outputs": [
    {
     "data": {
      "text/plain": [
       "(477, 704)"
      ]
     },
     "execution_count": 13,
     "metadata": {},
     "output_type": "execute_result"
    },
    {
     "data": {
      "image/png": "[encoded data removed]",
      "text/plain": [
       "<Figure size 1440x360 with 2 Axes>"
      ]
     },
     "metadata": {
      "needs_background": "light"
     },
     "output_type": "display_data"
    }
   ],
   "source": [
    "plt.figure(figsize=(20,5))\n",
    "\n",
    "plt.subplot(121)\n",
    "plt.scatter(law82.LSAT,law82.GPA,color='c')\n",
    "plt.scatter(law15.LSAT,law15.GPA,color='green')\n",
    "plt.title('Scatter Plot Population')\n",
    "plt.xlabel('LSAT')\n",
    "plt.ylabel('GPA')\n",
    "plt.ylim(law82.GPA.min(),law82.GPA.max())\n",
    "plt.xlim(law82.LSAT.min(),law82.LSAT.max())\n",
    "\n",
    "plt.subplot(122)\n",
    "plt.scatter(law15.LSAT,law15.GPA,color='green')\n",
    "plt.title('Scatter Plot Sample')\n",
    "plt.xlabel('LSAT')\n",
    "plt.ylabel('GPA')\n",
    "plt.ylim(law82.GPA.min(),law82.GPA.max())\n",
    "plt.xlim(law82.LSAT.min(),law82.LSAT.max())"
   ]
  },
  {
   "cell_type": "markdown",
   "metadata": {},
   "source": [
    "We will calculate an interval confidence for the correlation using the bootstrap resampling method.  First we will calculate the correlation for the original dataset and the sample.\n",
    "\n",
    "The corr method of Series computes the correlation of the overlapping, non-NA, aligned-by-index values in two Series. Relatedly, cov computes the covariance."
   ]
  },
  {
   "cell_type": "code",
   "execution_count": 14,
   "metadata": {
    "scrolled": true
   },
   "outputs": [
    {
     "name": "stdout",
     "output_type": "stream",
     "text": [
      "Population LSAT vs. GPA correlation: 0.7600\n"
     ]
    }
   ],
   "source": [
    "corr_pop=law82['LSAT'].corr(law82['GPA'])\n",
    "print(\"Population LSAT vs. GPA correlation: %.4f\"  % corr_pop)"
   ]
  },
  {
   "cell_type": "markdown",
   "metadata": {},
   "source": [
    "We want to compare the sampling distribution from the population vs. the bootstrap distribution from the sample.\n",
    "\n",
    "First we will create random samples from the population."
   ]
  },
  {
   "cell_type": "code",
   "execution_count": 15,
   "metadata": {
    "scrolled": true
   },
   "outputs": [
    {
     "data": {
      "text/plain": [
       "array([ 0,  1,  2,  3,  4,  5,  6,  7,  8,  9, 10, 11, 12, 13, 14, 15, 16,\n",
       "       17, 18, 19, 20, 21, 22, 23, 24, 25, 26, 27, 28, 29, 30, 31, 32, 33,\n",
       "       34, 35, 36, 37, 38, 39, 40, 41, 42, 43, 44, 45, 46, 47, 48, 49, 50,\n",
       "       51, 52, 53, 54, 55, 56, 57, 58, 59, 60, 61, 62, 63, 64, 65, 66, 67,\n",
       "       68, 69, 70, 71, 72, 73, 74, 75, 76, 77, 78, 79, 80, 81])"
      ]
     },
     "execution_count": 15,
     "metadata": {},
     "output_type": "execute_result"
    }
   ],
   "source": [
    "# Create a file to used it as index\n",
    "#law82.shape[0] counts the number of rows (records)\n",
    "#we create an numpy array to use the built in permutation functions later\n",
    "\n",
    "index_law82=np.arange(0,law82.shape[0])\n",
    "index_law82"
   ]
  },
  {
   "cell_type": "code",
   "execution_count": 16,
   "metadata": {},
   "outputs": [],
   "source": [
    "LSAT = law82['LSAT']\n",
    "GPA = law82['GPA']\n",
    "\n",
    "# Create a df for the sampling distribution of correlations\n",
    "# set the number of samples\n",
    "# this time we shall pick 15 rows randomly from the law82 dataset\n",
    "# and calculate the correlation between LSAT and GPA\n",
    "# this will be compared with bootsrap replication of law15 subset\n",
    "\n",
    "N = 3200\n",
    "\n",
    "corr_sampling_dist_pop = []\n",
    "\n",
    "for i in np.arange(0, N):\n",
    "    # pick 15 rows (indices) randomly with replacement (default)\n",
    "    pop_sample_idx = np.random.choice(law82.shape[0], 15, replace = True)\n",
    "    \n",
    "    # sample the records that match with the index\n",
    "    random_sampling_pop = (LSAT[pop_sample_idx], GPA[pop_sample_idx])\n",
    "    \n",
    "    # calculate the correlation of the sample\n",
    "    corr_sample_pop = random_sampling_pop[0].corr(random_sampling_pop[1])\n",
    "    \n",
    "    # Append the new sample correlation to the sampling distribution df\n",
    "    corr_sampling_dist_pop.append(corr_sample_pop) \n",
    "    "
   ]
  },
  {
   "cell_type": "markdown",
   "metadata": {},
   "source": [
    "Now we will calculate a distribution for the sample bootstrap replication"
   ]
  },
  {
   "cell_type": "code",
   "execution_count": 17,
   "metadata": {
    "scrolled": true
   },
   "outputs": [],
   "source": [
    "LSAT=law15['LSAT']\n",
    "GPA=law15['GPA']\n",
    "\n",
    "#Create a df for the sampling distribution of correlations\n",
    "# this time we shall bootstrap replicate law15 subset B times.\n",
    "# For better comparison B is the same number as N in sampling above\n",
    "\n",
    "B = 3200\n",
    "\n",
    "\n",
    "corr_sampling_dist_sample=[]\n",
    "\n",
    "for i in np.arange(0,B):\n",
    "    #pick 15 rows (indexes) randomly with replacement (default)\n",
    "    pop_sample_idx=np.random.choice(law15.shape[0],15,replace=True)\n",
    "\n",
    "\n",
    "    # sample the records that match with the index\n",
    "    random_sampling_sample=(LSAT[pop_sample_idx],GPA[pop_sample_idx])\n",
    "\n",
    "    #calculate the correlation of the sample\n",
    "    corr_sample_sample=random_sampling_sample[0].corr(random_sampling_sample[1])\n",
    "\n",
    "    #Append the new sample correlation to the sampling distribution df\n",
    "    corr_sampling_dist_sample.append(corr_sample_sample)\n",
    "\n",
    "#plt.hist(corr_sampling_dist_sample,bins=20)"
   ]
  },
  {
   "cell_type": "code",
   "execution_count": 18,
   "metadata": {
    "scrolled": true
   },
   "outputs": [
    {
     "data": {
      "text/plain": [
       "Text(0, 0.5, 'Frequency')"
      ]
     },
     "execution_count": 18,
     "metadata": {},
     "output_type": "execute_result"
    },
    {
     "data": {
      "image/png": "[encoded data removed]",
      "text/plain": [
       "<Figure size 1440x360 with 2 Axes>"
      ]
     },
     "metadata": {
      "needs_background": "light"
     },
     "output_type": "display_data"
    }
   ],
   "source": [
    "plt.figure(figsize=(20,5))\n",
    "\n",
    "plt.subplot(121)\n",
    "plt.hist(corr_sampling_dist_pop,bins=20)\n",
    "plt.title('Histogram: Sampling Distribution of the Correlations')\n",
    "plt.xlabel('Correlation')\n",
    "plt.ylabel('Frequency')\n",
    "#plt.ylim(0,B/5)\n",
    "\n",
    "plt.subplot(122)\n",
    "plt.hist(corr_sampling_dist_sample,bins=20)\n",
    "plt.title('Histogram: Sample Boostrap Distribution of the Correlations')\n",
    "plt.xlabel('Correlation')\n",
    "plt.ylabel('Frequency')\n",
    "#plt.ylim(0,B/5)\n"
   ]
  },
  {
   "cell_type": "markdown",
   "metadata": {},
   "source": [
    "The bootstrap sampling and the population sampling have very similar histograms. Note that both are not normal.  This was created without any assumption made on the population.\n",
    "\n",
    "Remember that the CLT only applies to sample means. In this case, correlation statistical theory cannot aid us.  However, as we have demonstrated, we can rely on computational methods."
   ]
  },
  {
   "cell_type": "markdown",
   "metadata": {},
   "source": [
    "Let's compare our statistics"
   ]
  },
  {
   "cell_type": "code",
   "execution_count": 19,
   "metadata": {
    "scrolled": true
   },
   "outputs": [
    {
     "name": "stdout",
     "output_type": "stream",
     "text": [
      "Population LSAT vs. GPA correlation: 0.76\n",
      "Population LSAT vs. GPA bootstrap sampling: 0.77 , the error vs. the true correlation is 0.01\n",
      "Population LSAT vs. GPA population sampling: 0.75 the error vs. the true correlation is -0.01\n"
     ]
    }
   ],
   "source": [
    "corr_pop=law82['LSAT'].corr(law82['GPA'])\n",
    "print(\"Population LSAT vs. GPA correlation: %.2f\"  % corr_pop)\n",
    "\n",
    "corr_boot_mean=sum(corr_sampling_dist_sample)/len(corr_sampling_dist_sample)\n",
    "error_corr_boot_mean=corr_boot_mean-corr_pop\n",
    "print(\"Population LSAT vs. GPA bootstrap sampling: %.2f\"  % corr_boot_mean,', the error vs. the true correlation is %.2f' % error_corr_boot_mean)\n",
    "\n",
    "corr_sampling_mean=sum(corr_sampling_dist_pop)/len(corr_sampling_dist_pop)\n",
    "error_corr_sampling_mean=corr_sampling_mean-corr_pop\n",
    "print(\"Population LSAT vs. GPA population sampling: %.2f\"  % corr_sampling_mean, 'the error vs. the true correlation is %.2f' % error_corr_sampling_mean)"
   ]
  },
  {
   "cell_type": "markdown",
   "metadata": {},
   "source": [
    "**Apply bootstrapping to the distribution of the sample mean**\n",
    "\n",
    "Let's calculate the true value and the estimation using statistical theory.  Then we will create bootstrap replications for the sample and we will compare the results."
   ]
  },
  {
   "cell_type": "code",
   "execution_count": 20,
   "metadata": {
    "scrolled": true
   },
   "outputs": [],
   "source": [
    "LSAT=law82['LSAT']\n",
    "LSAT_True_Mean=LSAT.mean()\n",
    "\n",
    "LSAT15=law15['LSAT']\n",
    "LSAT_sample_Mean=LSAT15.mean()\n",
    "\n",
    "sampling_dist_sample_LSAT=[]\n",
    "\n",
    "B=10000\n",
    "\n",
    "for i in np.arange(0,B):\n",
    "\n",
    "    #create a range with the indexes of the dataframe\n",
    "    index_law15=np.arange(0,law15.shape[0])\n",
    "\n",
    "    #sample with replacement the index\n",
    "    pop_sample_idx=np.random.choice(law15.shape[0],15,replace=True)\n",
    "\n",
    "    # sample the records that match with the index\n",
    "    random_sampling_sample=LSAT[pop_sample_idx]\n",
    "\n",
    "    #append the new mean\n",
    "    sampling_dist_sample_LSAT.append(random_sampling_sample.mean())\n",
    "    \n",
    "#plt.hist(sampling_dist_sample_LSAT)\n",
    "#plt.show"
   ]
  },
  {
   "cell_type": "code",
   "execution_count": 21,
   "metadata": {
    "scrolled": true
   },
   "outputs": [],
   "source": [
    "sampling_dist_pop_LSAT=[]\n",
    "\n",
    "\n",
    "for i in np.arange(0,B):\n",
    "\n",
    "    #create a range with the indexes of the dataframe\n",
    "    index_law82=np.arange(0,law82.shape[0])\n",
    "\n",
    "    #sample with replacement the index\n",
    "    pop_sample_idx=np.random.choice(law82.shape[0],15,replace=True)\n",
    "\n",
    "    # sample the records that match with the index\n",
    "    random_sampling_sample=LSAT[pop_sample_idx]\n",
    "\n",
    "    #append the new mean\n",
    "    sampling_dist_pop_LSAT.append(random_sampling_sample.mean())\n",
    "    \n",
    "#plt.hist(sampling_dist_pop_LSAT)\n",
    "#plt.show"
   ]
  },
  {
   "cell_type": "code",
   "execution_count": 22,
   "metadata": {
    "scrolled": true
   },
   "outputs": [
    {
     "data": {
      "text/plain": [
       "<function matplotlib.pyplot.show(*args, **kw)>"
      ]
     },
     "execution_count": 22,
     "metadata": {},
     "output_type": "execute_result"
    },
    {
     "data": {
      "image/png": "[encoded data removed]",
      "text/plain": [
       "<Figure size 1440x360 with 2 Axes>"
      ]
     },
     "metadata": {
      "needs_background": "light"
     },
     "output_type": "display_data"
    }
   ],
   "source": [
    "plt.figure(figsize=(20,5))\n",
    "\n",
    "plt.subplot(121)\n",
    "plt.hist(sampling_dist_pop_LSAT)\n",
    "plt.axvline(LSAT_True_Mean,linestyle='--',color='b',ymax=0.97)\n",
    "plt.axvline(LSAT_sample_Mean,linestyle='--',color='r',ymax=0.97)\n",
    "plt.xlabel('LSAT')\n",
    "plt.ylabel('Frequency')\n",
    "plt.title('Population Sample Distribution')\n",
    "\n",
    "plt.subplot(122)\n",
    "plt.hist(sampling_dist_sample_LSAT)\n",
    "plt.axvline(LSAT_True_Mean,linestyle='--',color='b',ymax=0.97)\n",
    "plt.axvline(LSAT_sample_Mean,linestyle='--',color='r',ymax=0.97)\n",
    "plt.xlabel('LSAT')\n",
    "plt.ylabel('Frequency')\n",
    "plt.title('Sample Bootstrap Distribution')\n",
    "plt.show"
   ]
  },
  {
   "cell_type": "markdown",
   "metadata": {},
   "source": [
    "**End of Module.**\n",
    "\n",
    "You have reached the end of this module.\n",
    "\n",
    "If you have any questions, please reach out to your peers using the discussion boards. If you and your peers are unable to come to a suitable conclusion, do not hesitate to reach out to your instructor on the designated discussion board.\n",
    "\n",
    "When you are comfortable with the content, and have practiced to your satisfaction, you may proceed to any related assignments, and to the next module."
   ]
  },
  {
   "cell_type": "markdown",
   "metadata": {},
   "source": [
    "<a id='References'></a>\n",
    "## References\n",
    "\n",
    "\n",
    "Efron, B. & Tibshirani, R.J. (1994). *An Introduction to the Bootstrap, 1st Ed.,* Chapman and Hall/CRC, ISBN 9780412042317\n"
   ]
  }
 ],
 "metadata": {
  "kernelspec": {
   "display_name": "Python 3",
   "language": "python",
   "name": "python3"
  },
  "language_info": {
   "codemirror_mode": {
    "name": "ipython",
    "version": 3
   },
   "file_extension": ".py",
   "mimetype": "text/x-python",
   "name": "python",
   "nbconvert_exporter": "python",
   "pygments_lexer": "ipython3",
   "version": "3.7.4"
  }
 },
 "nbformat": 4,
 "nbformat_minor": 4
}
