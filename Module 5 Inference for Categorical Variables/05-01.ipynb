{
 "cells": [
  {
   "cell_type": "markdown",
   "metadata": {},
   "source": [
    "# Module 5 Part 1: Introduction "
   ]
  },
  {
   "cell_type": "markdown",
   "metadata": {},
   "source": [
    "This module consists of 3 parts:\n",
    "\n",
    "**Part 1** - Introduction\n",
    "\n",
    "**Part 2** - The Chi-Square Distribution\n",
    "\n",
    "**Part 3** - Introduction to Bootstrap\n",
    "\n",
    "Each part is provided in a separate notebook file. It is recommended that you follow the order of the notebooks.\n",
    "\n",
    "# Table of Contents\n",
    "\n",
    "* [Introduction](#introduction)\n",
    "\n",
    "\n",
    "* [Learning Outcomes](#Learning_Outcomes)\n",
    "\n",
    "\n",
    "* [Readings and Resources](#Readings_and_Resources)\n",
    "\n",
    "\n",
    "* [Types of Experiments](#Types_of_Experiments)\n",
    "\n",
    "\n",
    "\n",
    "* [Hypothesis Tests on Proportions](#hypothesis_tests_on_proportions)\n",
    "    * [Hypothesis testing for a proportion](#Hypothesis_testing_for_a_proportion)\n",
    "    * [Difference of two proportions](#Difference_of_two_proportions)\n",
    "\n",
    "    \n",
    " **Part 2**  \n",
    "* The Chi-Square $\\chi^2$ Distribution\n",
    "    \n",
    "    \n",
    "* Hypothesis Tests on Two or More Proportions\n",
    "    * Goodness-of-fit\n",
    "    * Contingency Tables\n",
    "\n",
    " \n",
    "**Part 3**\n",
    "* Introduction to Bootstrap\n",
    "    * Theoretical background\n",
    "    * Bootstrap examples\n",
    "  "
   ]
  },
  {
   "cell_type": "markdown",
   "metadata": {},
   "source": [
    "<a id='introduction'></a>\n",
    "# Introduction"
   ]
  },
  {
   "cell_type": "markdown",
   "metadata": {},
   "source": [
    "The previous module covered inference for continuous variables. This module will extend the concepts of inference to categorical variables. Tests for categorical data apply mainly to nominal data; however, the same concepts can be extended to ordinal data by treating the data as nominal.\n",
    "\n",
    "The extension of hypothesis testing to nominal variables by applying the normal approximation to the binomial distribution and the application of the $\\chi^2$ (Chi-Square) distribution are covered in this module.\n",
    "\n",
    "Statistical tools developed for nominal variables analyze frequencies or proportions of the different categories. Tests that can be performed on nominal variables and are covered in this module can be grouped as follows:\n",
    "      \n",
    "  - Hypothesis tests on proportions\n",
    "      \n",
    "  - Goodness-of-fit\n",
    "      \n",
    "  - Contingency tables"
   ]
  },
  {
   "cell_type": "markdown",
   "metadata": {},
   "source": [
    "<a id='Learning_Outcomes'></a>\n",
    "# Learning Outcomes"
   ]
  },
  {
   "cell_type": "markdown",
   "metadata": {},
   "source": [
    "At the end of this module, you will be able to choose the correct distribution and the test type to perform a hypothesis test on the proportion and/or frequency of occurrence of categorical variables.\n",
    "\n",
    "Also, the concept of Bootstrapping is introduced.  You will be able to estimate the standard error of a population parameter when parametric assumptions are not possible."
   ]
  },
  {
   "cell_type": "markdown",
   "metadata": {},
   "source": [
    "<a id='Readings_and_Resources'></a>\n",
    "# Reading and Resources"
   ]
  },
  {
   "cell_type": "markdown",
   "metadata": {},
   "source": [
    "We invite you to further supplement this notebook with the following recommended text:\n",
    "\n",
    "Diez, D., Barr, C. & Çetinkaya-Rundel, M. (2017). Chapter 2: Probability in *OpenIntro Statistics (3rd Ed.).* https://www.openintro.org/stat/textbook.php?stat_book=os \n"
   ]
  },
  {
   "cell_type": "markdown",
   "metadata": {},
   "source": [
    "<a id='Types_of_Experiments'></a>\n",
    "# Types of Experiments"
   ]
  },
  {
   "cell_type": "markdown",
   "metadata": {},
   "source": [
    "In statistics and probability, an experiment is a procedure that has a possible set of outcomes. If the outcome is known, the experiment is **deterministic**. If the outcome is unknown but it has a finite list of possibilities, the experiment is **random**.  \n",
    "\n",
    "There are two types of experiment with nominal data:\n",
    "\n",
    "* binomial\n",
    "\n",
    "* polynomial\n",
    "\n",
    "**Binomial:**  recall that the Bernoulli experiment has two possible outcomes: yes/no, purchase/no purchase, vote/don't vote, etc. These were coded as 0 or 1. For applications where the Bernoulli experiment is repeated **$n$** times, where $n$ is a fixed number and the $n$ trials are independent, we introduced the binomial distribution. For this type of data, we can apply the normal approximation to the binomial distribution to perform hypothesis tests on proportions. \n",
    "\n",
    "**Polynomial:** this is an extension of the binomial experiment where the possible outcomes are not restricted to two: which brand is a person going to choose, which candidate is a person going to vote for, etc. For this type of data, we apply the **$\\chi^2$ (Chi-Square) distribution** to perform goodness-of-fit and contingency tables tests."
   ]
  },
  {
   "cell_type": "markdown",
   "metadata": {},
   "source": [
    "<a id='hypothesis_tests_on_proportions'></a>\n",
    "# Hypothesis Tests on Proportions"
   ]
  },
  {
   "cell_type": "markdown",
   "metadata": {},
   "source": [
    "<a id='Hypothesis_testing_for_a_proportion'></a>\n",
    "## Hypothesis testing for a proportion"
   ]
  },
  {
   "cell_type": "markdown",
   "metadata": {},
   "source": [
    "In the previous module, we focused our attention on the mean of a population.  In this module, we will now focus on the proportion of successes of a binomial experiment.  Sometimes we define one of the possible outcomes of a multinomial experiment as success and all the other as failure.  In these cases we can apply the statistical tools for binomial experiments to multinomial outcomes.\n",
    "\n",
    "When a population sample is compared against a hypothesised value, it is analogous to a **one sample t-test** covered in the previous module.\n",
    "\n",
    "The sample proportion, $\\widehat{p}$, is the relative frequency of succeses $x$ vs. the total number of trials $n$.   The sample proportion is used as an estimator of the true population parameter $p$:\n",
    "\n",
    "$$\\widehat{p} = \\frac{number \\mbox{ }of \\mbox{ }successes}{number \\mbox{ }of \\mbox{ }trials}=\\frac{x}{n}$$\n",
    "\n",
    "The Binomial distribution is defined as:\n",
    "\n",
    "\n",
    "$$\n",
    "p(x)= {\\left( \\begin{array}{cc} n \\\\x \\end{array}\\right)p^{x}(1-p)^{n-x}}  \\mbox{ } \\mbox{ } \\mbox{ } \\mbox{ } \\mbox{for x=1, 2, 3, ...,n}\n",
    "$$\n",
    "\n",
    "The mean, $\\mu$, and variance, $\\sigma^{2}$, for the binomial probability distribution are:\n",
    "\n",
    "$$\n",
    "\\mu = np\n",
    "$$\n",
    "\n",
    "$$\n",
    "\\sigma^{2}= np(1-p)\n",
    "$$\n",
    "\n",
    "The mean and variance can be used to define the test statistic for porportions $p$ provided that np and $n(1-p)$ are greater than 10, that is equivalent to say that when these two conditions are fulfilled, we can approximate the binomial distribution by the normal distribution:\n",
    "\n",
    "$$\n",
    "z=\\frac{Point\\mbox{ }Estimate - Null\\mbox{ }Value}{Standar\\mbox{ }Error}=\\frac{\\widehat{p}-p}{\\sqrt\\frac{p(1-p)}{n}}\n",
    "$$\n",
    "\n",
    "Applying calculus concepts that are beyond the level of this course, we approximated the binomial to the normal distribution.  \n",
    "\n",
    "**The formulas given below are for reference only, it is neither expected nor required that these are known as the software takes care of it.**\n",
    "\n",
    "Following the same considerations used in the previous module, we can derive the confidence interval estimator of p from the sampling distribution:\n",
    "\n",
    "\n",
    "$$\n",
    "P(-Z_\\frac{\\alpha}{2},\\mbox{ }\\frac{\\widehat{p} - p}{\\sqrt\\frac{p(1-p)}{n}} ,\\mbox{ }+Z_\\frac{\\alpha}{2})=1-\\alpha\n",
    "$$\n",
    "\n",
    "\n",
    "$$\n",
    "P(p-Z_\\frac{\\alpha}{2} \\sqrt\\frac{p(1-p)}{n},\\mbox{ }\\widehat{p} ,\\mbox{ }\\mbox{ }p+Z_\\frac{\\alpha}{2} \\sqrt\\frac{p(1-p)}{n})=1-\\alpha\n",
    "$$\n",
    "\n",
    "doing some algebraic manipulations\n",
    "\n",
    "$$\n",
    "P(\\widehat{p}-Z_\\frac{\\alpha}{2} {\\sqrt\\frac{p(1-p)}{n}},\\mbox{ }p ,\\mbox{ }\\widehat{p}+Z_\\frac{\\alpha}{2} \\sqrt\\frac{p(1-p)}{n})=1-\\alpha\n",
    "$$\n",
    "\n",
    "This is equivalent to say that with repeated sampling from this population, the proportion of values of $\\widehat{p}$ for which the interval $(\\widehat{p}-Z_\\frac{\\alpha}{2} \\sqrt\\frac{p(1-p)}{n},\\mbox{ }\\widehat{p}+Z_\\frac{\\alpha}{2} \\sqrt\\frac{p(1-p)}{n})$ includes the true population proportion parameter $p$ is equal to $1 −\\mbox{ }\\alpha$.\n",
    "\n",
    "Based on the equations above, the **Confidence Interval of $p$** with a **confidence level of $1-\\alpha$** is estimated as:\n",
    "\n",
    "$\\widehat{p}-Z_\\frac{\\alpha}{2} \\frac{\\widehat{p}-p}{\\sqrt\\frac{p(1-p)}{n}}$ or $\\widehat{p}-Z_\\frac{\\alpha}{2}SE$ is the **lower confidence limit (LCL)**\n",
    "\n",
    "$\\widehat{p}+Z_\\frac{\\alpha}{2} \\frac{\\widehat{p}-p}{\\sqrt\\frac{p(1-p)}{n}}$ or $\\widehat{p}+Z_\\frac{\\alpha}{2}SE$ is the **upper confidence limit (UCL)**\n",
    "\n",
    "The typical value for the confidence level is 95%, however it depends on the application of the estimation.\n",
    "\n"
   ]
  },
  {
   "cell_type": "markdown",
   "metadata": {},
   "source": [
    "**Conditions for $\\widehat{p}$ being nearly normal and SE being accurate**"
   ]
  },
  {
   "cell_type": "markdown",
   "metadata": {},
   "source": [
    "As stated above, in order to apply the normal approximation to the binomial distribution:\n",
    "    \n",
    "    \n",
    " * $p$ and $p(1-p)$ have to be **greater than 10**.  (Note: you may find some texts state that it should be greater than 5)\n",
    "    \n",
    " * The observations are **independent**"
   ]
  },
  {
   "cell_type": "markdown",
   "metadata": {},
   "source": [
    "<a id='Sample_Size'></a>\n",
    "### Sample size"
   ]
  },
  {
   "cell_type": "markdown",
   "metadata": {},
   "source": [
    "The required confidence interval may be too wide for the desired confidence level.  If a confidence interval is too wide, it does not add much information as the error in the estimation is too big.  We may need to keep the difference between the true parameter of the population and the estimation within certain limits.  The estimation error can be controlled by varying the sample size.\n",
    "\n",
    "Given a confidence level $\\alpha$ and a desired range width for the confidence interval $B$, the sample size can be determined by using the estimator $\\widehat{p} \\pm Z_\\frac{\\alpha}{2} \\sqrt\\frac{p(1-p)}{n}$ shown above.\n",
    "\n",
    "$$\n",
    "n=(\\frac{Z_\\frac{\\alpha}{2}\\sqrt{\\widehat{p}(1-\\widehat{p})}}{B})^2 \n",
    "$$\n",
    "\n",
    "In real life situations, we may not have any idea of $\\widehat{p}$ prior to the experiment. In these situations, the usual approach is to use $\\widehat{p}=0.5$ which maximizes $n$.  p=0.5 is the worst case scenario as is illustrated below."
   ]
  },
  {
   "cell_type": "code",
   "execution_count": 1,
   "metadata": {},
   "outputs": [],
   "source": [
    "import numpy as np\n",
    "import matplotlib.pyplot as plt"
   ]
  },
  {
   "cell_type": "code",
   "execution_count": 2,
   "metadata": {},
   "outputs": [
    {
     "data": {
      "image/png": "[encoded data removed]",
      "text/plain": [
       "<Figure size 432x288 with 1 Axes>"
      ]
     },
     "metadata": {
      "needs_background": "light"
     },
     "output_type": "display_data"
    }
   ],
   "source": [
    "p_range=np.arange(0,1,0.01)\n",
    "p_p_minus_1=p_range*(1-p_range)\n",
    "\n",
    "plt.plot(p_range,p_p_minus_1)\n",
    "plt.title('$\\widehat{p}(1-\\widehat{p})$ vs. $\\widehat{p}$', fontsize=15)\n",
    "plt.xlabel('$\\widehat{p}$', fontsize=12)\n",
    "plt.ylabel('$\\widehat{p}(1-\\widehat{p})$', fontsize=12)\n",
    "plt.axvline(0.5,ymax=0.95,linestyle = 'dashed')\n",
    "plt.axhline(0.25,xmax=0.5,linestyle = 'dashed')\n",
    "plt.show()"
   ]
  },
  {
   "cell_type": "markdown",
   "metadata": {},
   "source": [
    "<a id='Difference_of_two_proportions'></a>\n",
    "## Difference of two proportions"
   ]
  },
  {
   "cell_type": "markdown",
   "metadata": {},
   "source": [
    "In the previous module, we described the two-sample t-test to compare the difference of two populations means. When analyzing proportions, we can compare the difference between the means of two populations in a similar way.\n",
    "\n",
    "The normal approximation can be applied to the situation when:\n",
    "\n",
    "* each proportion separately follows a normal model, and \n",
    "* the two samples are independent of each other\n",
    "\n",
    "Sample independence can be assumed if the sample size is less than 10% of the total population.\n",
    "\n",
    "We label $x_1$ as the number of successes in the sample from population 1, and $x_2$ from population 2. Using this notation:\n",
    "\n",
    "$$\n",
    "\\widehat{p_1}=\\frac{x_1}{n_1}\n",
    "$$\n",
    "\n",
    "$$\n",
    "\\widehat{p_2}=\\frac{x_1}{n_2}\n",
    "$$\n",
    "\n",
    "We are testing for the difference between the proportions of the two populations based on the sampling distribution of  $\\widehat{p_1}-\\widehat{p_2}$:\n",
    "\n",
    "$\n",
    "E(\\widehat{p_1}-\\widehat{p_2})= p_1-p_2\n",
    "$\n",
    "\n",
    "As variances are additive:\n",
    "\n",
    "$\n",
    "V(\\widehat{p_1}-\\widehat{p_2})= v(p_1)+V(p_2)=\\frac{p_1(1-p_1)}{n_1}+\\frac{p_2(1-p_2)}{n_2}\n",
    "$\n",
    "\n",
    "so the standard error becomes\n",
    "\n",
    "$\n",
    "\\sigma_{\\widehat{p_1}-\\widehat{p_2}}=SE_{\\widehat{p_1}-\\widehat{p_2}}=\\sqrt{SE^2_{p_1}+SE^2_{p_2}}=\\sqrt{\\frac{p_1(1-p_1)}{n_1}+\\frac{p_2(1-p_2)}{n_2}}\n",
    "$\n",
    "\n",
    "When $n_1p_1$, $n_1(1-p_1)$ and $n_2p_2$, $n_2(1-p_2)$ are greater than 10 (or 5 in certain textbooks), the statistic $E(\\widehat{p_1}-\\widehat{p_2})= p_1-p_2$ is normally distributed, thus $z$ will be normally distributed:\n",
    "\n",
    "\n",
    "$$\n",
    "z=\\frac{(\\widehat{p_1}-\\widehat{p_2})-(p_1-p_2)}{\\sqrt{\\frac{p_1(1-p_1)}{n_1}+\\frac{p_2(1-p_2)}{n_2}}}\n",
    "$$\n",
    "\n",
    "However, $p_1$ and $p_2$ are unknown, so $\\sigma_{\\widehat{p_1}-\\widehat{p_2}}$ has to be estimated from the sample. If the null hypothesis $H_0$ is $p_1-p_20$ then we can use the pooled proportion estimate:\n",
    "\n",
    "$$\n",
    "\\widehat{p}=\\frac{n_1\\widehat{p_1}+n_2\\widehat{p_2}}{n_1+n_2}\n",
    "$$\n",
    "\n",
    "then the **Standard Error $SE_{\\widehat{p_1}-\\widehat{p_2}}$** becomes:\n",
    "\n",
    "$$\n",
    "SE_{\\widehat{p_1}-\\widehat{p_2}}=\\sqrt{SE^2_{p_1}+SE^2_{p_2}}=\\sqrt{\\frac{p_1(1-p_1)}{n_1}+\\frac{p_2(1-p_2)}{n_2}}=\\sqrt{\\widehat{p}(1-\\widehat{p})(\\frac{1}{n_1}+\\frac{1}{n_2})}\n",
    "$$\n",
    "\n",
    "\n",
    "* If we hypothesize that $p_1-p_2=0$, $z$ becomes:\n",
    "\n",
    "    $\n",
    "    z=\\frac{(\\widehat{p_1}-\\widehat{p_2})}{\\sqrt{\\widehat{p}(1-\\widehat{p})(\\frac{1}{n_1}+\\frac{1}{n_2})}}\n",
    "    $\n",
    "\n",
    "\n",
    "* If we hypothesize that $p_1-p_2=D$, $z$ becomes:\n",
    "\n",
    "    $\n",
    "    z=\\frac{(\\widehat{p_1}-\\widehat{p_2})-D}{\\sqrt{\\frac{p_1(1-p_1)}{n_1}+\\frac{p_2(1-p_2)}{n_2}}}\n",
    "    $\n",
    "    \n",
    "    \n",
    "The confidence interval for the difference between two proportions $p_1-p_2$ is based on the normality of $\\widehat{p_1}-\\widehat{p_2}$:\n",
    "\n",
    "$\n",
    "\\widehat{p_1}-\\widehat{p_2}\\pm Z_\\frac{\\alpha}{2}\\sqrt{\\frac{p_1(1-p_1)}{n_1}+\\frac{p_2(1-p_2)}{n_2}}\n",
    "$"
   ]
  },
  {
   "cell_type": "markdown",
   "metadata": {},
   "source": [
    "**Example**"
   ]
  },
  {
   "cell_type": "code",
   "execution_count": 3,
   "metadata": {},
   "outputs": [],
   "source": [
    "from statsmodels.stats.proportion import proportions_ztest"
   ]
  },
  {
   "cell_type": "markdown",
   "metadata": {},
   "source": [
    "We are going to use the proportions_ztest function.  \n",
    "\n",
    "The general form is:  proportions_ztest(count, nobs, value=None, alternative='two-sided', prop_var=False).\n",
    "\n",
    "The first example is a one proportion t-test with an observed sample of 100 observations,  30 observed successes, which are tested against the null hypothesis that the proportion of successes is (statistically equal to) 25%.\n",
    "\n",
    "count:  is the number of successes in nobs trials. <br/>\n",
    "nobs:  the number of trials or observations <br/>\n",
    "value : this is the value of the null hypothesis equal to the proportion in the case of a one sample test.\n",
    "\n",
    "$H_0: p = 0.25$<br/>\n",
    "$H_a: p \\neq 0.25$"
   ]
  },
  {
   "cell_type": "code",
   "execution_count": 4,
   "metadata": {},
   "outputs": [
    {
     "name": "stdout",
     "output_type": "stream",
     "text": [
      "z statistic =is 1.09\n",
      "p-value =is 0.28\n"
     ]
    }
   ],
   "source": [
    "stat, pval = proportions_ztest(30, 100,.25)\n",
    "print('z statistic =is %.2f' %stat)\n",
    "print('p-value =is %.2f' %pval)"
   ]
  },
  {
   "cell_type": "markdown",
   "metadata": {},
   "source": [
    "The test output is interpreted as follows:\n",
    "\n",
    "The statistic \n",
    "\n",
    "$$\n",
    "z=\\frac{Point\\mbox{ }Estimate - Null\\mbox{ }Value}{Standar\\mbox{ }Error}=\\frac{\\widehat{0.30}-0.25}{\\sqrt\\frac{0.3(1-0.3)}{n}}=1.09\n",
    "$$\n",
    "\n",
    "produced a value of 1.09.  The p-value, probability of the observed statistic assuming that the null hypothesis is true, is 0.28.  This value is bigger than the default $\\alpha=0.05$, so we fail to reject the null hypothesis and conclude that an observed value $p=0.3$ is not statistically different than the null hypothesis of 0.25.  \n",
    "\n",
    "In other words, the sample does not provide enough evidence to reject the null hypothesis.\n",
    "\n",
    "**Note:**  \n",
    "- The software estimated the standard deviation of the population calculating the standard deviation of the sample taking into account the sample size.  <br/>\n",
    "- There are also rounding errors and approximations so the values do not exactly match, however to link the concepts to the previous module, we can manually validate the p-value."
   ]
  },
  {
   "cell_type": "code",
   "execution_count": 5,
   "metadata": {},
   "outputs": [
    {
     "name": "stdout",
     "output_type": "stream",
     "text": [
      "p-value is 0.28\n"
     ]
    }
   ],
   "source": [
    "import scipy.stats as st\n",
    "pval=(1-st.norm.cdf(stat)) * 2\n",
    "print('p-value is %.2f' %pval)"
   ]
  },
  {
   "cell_type": "markdown",
   "metadata": {},
   "source": [
    "**Example**\n",
    "\n",
    "We will compare two population proportions, the first had 10 successes out of a total of 50 and the second 15 successes out of a total of 53."
   ]
  },
  {
   "cell_type": "code",
   "execution_count": 6,
   "metadata": {},
   "outputs": [
    {
     "name": "stdout",
     "output_type": "stream",
     "text": [
      "z statistic =is -0.98\n",
      "p-value =is 0.33\n"
     ]
    }
   ],
   "source": [
    "successes = np.array([10, 15])\n",
    "nobs = np.array([50, 53])\n",
    "stat, pval = proportions_ztest(successes, nobs)\n",
    "print('z statistic =is %.2f' %stat)\n",
    "print('p-value =is %.2f' %pval)"
   ]
  },
  {
   "cell_type": "markdown",
   "metadata": {},
   "source": [
    "The function *proportions_ztest* takes an integer or an array as arguments for count and obs.  \n",
    "To compare the average of two populations, we input them as arrays.  In our example, population 1 has 10 successes out of 50 observations, population 2 has 15 successes out of 53 observations.\n",
    "\n",
    "In this example, following an equivalent chain of thought as in the previous example, the Z statistic obtained is -0.98, which has a probability of 33% assuming the null hypothesis is true (both proportions equal).  So, we fail to reject the null and state that the two proportions are equivalent, or that the sample obtained did not provide evidence to reject the null hypothesis that the two proportions are the same.\n",
    "\n",
    "**End of Part 1.**\n",
    "\n",
    "This notebook makes up one part of this module. Now that you have completed this part,\n",
    "please proceed to the next notebook in this module.\n",
    "\n",
    "If you have any questions, please reach out to your peers using the discussion boards. If you and your peers are unable to come to a suitable conclusion, do not hesitate to reach out to your instructor on the designated discussion board."
   ]
  },
  {
   "cell_type": "markdown",
   "metadata": {},
   "source": [
    "## References\n",
    "\n",
    "Keller, G. (2017). Chapter Six: Probability in *Statistics for Management and Economics, 11th Edition*, Cengage Learning. ISBN 9781337093453\n",
    "\n",
    "Statsmodel developers (2017). statsmodels.stats.proportion.proportions_ztest.Retrieved on Dec 19, 2018 from https://www.statsmodels.org/dev/generated/statsmodels.stats.proportion.proportions_ztest.html\n",
    "        "
   ]
  }
 ],
 "metadata": {
  "kernelspec": {
   "display_name": "Python 3",
   "language": "python",
   "name": "python3"
  },
  "language_info": {
   "codemirror_mode": {
    "name": "ipython",
    "version": 3
   },
   "file_extension": ".py",
   "mimetype": "text/x-python",
   "name": "python",
   "nbconvert_exporter": "python",
   "pygments_lexer": "ipython3",
   "version": "3.7.4"
  }
 },
 "nbformat": 4,
 "nbformat_minor": 4
}
